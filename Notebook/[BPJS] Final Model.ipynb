{
  "nbformat": 4,
  "nbformat_minor": 2,
  "metadata": {
    "colab": {
      "name": "best.ipynb",
      "provenance": [],
      "collapsed_sections": []
    },
    "kernelspec": {
      "name": "python3",
      "display_name": "Python 3"
    },
    "language_info": {
      "name": "python"
    },
    "accelerator": "GPU",
    "widgets": {
      "application/vnd.jupyter.widget-state+json": {
        "64add524913043348401d66c1235feda": {
          "model_module": "catboost-widget",
          "model_name": "CatboostWidgetModel",
          "model_module_version": "^1.0.0",
          "state": {
            "_view_name": "CatboostWidgetView",
            "_dom_classes": [],
            "_model_name": "CatboostWidgetModel",
            "data": {
              "catboost_info": {
                "content": {
                  "data": {
                    "meta": {
                      "name": "experiment",
                      "parameters": "",
                      "test_metrics": [
                        {
                          "best_value": "Max",
                          "name": "F1"
                        },
                        {
                          "best_value": "Min",
                          "name": "CrossEntropy"
                        }
                      ],
                      "learn_sets": [
                        "learn"
                      ],
                      "launch_mode": "Train",
                      "learn_metrics": [
                        {
                          "best_value": "Max",
                          "name": "F1"
                        },
                        {
                          "best_value": "Min",
                          "name": "CrossEntropy"
                        }
                      ],
                      "iteration_count": 2000,
                      "test_sets": [
                        "test"
                      ]
                    },
                    "iterations": [
                      {
                        "test": [
                          0.6691286556,
                          0.6762658688
                        ],
                        "passed_time": 0.07974255797,
                        "iteration": 0,
                        "remaining_time": 159.4053734,
                        "learn": [
                          0.630569189,
                          0.6790661488
                        ]
                      },
                      {
                        "test": [
                          0.6703378479,
                          0.6625703586
                        ],
                        "passed_time": 0.1619559725,
                        "iteration": 1,
                        "remaining_time": 161.7940165,
                        "learn": [
                          0.6326067479,
                          0.6673945227
                        ]
                      },
                      {
                        "test": [
                          0.6861139053,
                          0.6507329444
                        ],
                        "passed_time": 0.2311952173,
                        "iteration": 2,
                        "remaining_time": 153.8989497,
                        "learn": [
                          0.6653221899,
                          0.6575696632
                        ]
                      },
                      {
                        "test": [
                          0.6798946958,
                          0.6416706612
                        ],
                        "passed_time": 0.2979277963,
                        "iteration": 3,
                        "remaining_time": 148.6659704,
                        "learn": [
                          0.6572677991,
                          0.6499395057
                        ]
                      },
                      {
                        "test": [
                          0.6864851607,
                          0.6324140715
                        ],
                        "passed_time": 0.3795070025,
                        "iteration": 4,
                        "remaining_time": 151.423294,
                        "learn": [
                          0.6630998622,
                          0.6417459617
                        ]
                      },
                      {
                        "test": [
                          0.6832954658,
                          0.6260813581
                        ],
                        "passed_time": 0.4465061817,
                        "iteration": 5,
                        "remaining_time": 148.3888877,
                        "learn": [
                          0.6611869268,
                          0.6363622202
                        ]
                      },
                      {
                        "test": [
                          0.6929594213,
                          0.6158924486
                        ],
                        "passed_time": 0.5169348513,
                        "iteration": 6,
                        "remaining_time": 147.178737,
                        "learn": [
                          0.6664127516,
                          0.6274396483
                        ]
                      },
                      {
                        "test": [
                          0.6967047083,
                          0.6096667772
                        ],
                        "passed_time": 0.5801337987,
                        "iteration": 7,
                        "remaining_time": 144.4533159,
                        "learn": [
                          0.669711173,
                          0.6220428683
                        ]
                      },
                      {
                        "test": [
                          0.7018393987,
                          0.602110504
                        ],
                        "passed_time": 0.6504542093,
                        "iteration": 8,
                        "remaining_time": 143.8949256,
                        "learn": [
                          0.6734752169,
                          0.6154464079
                        ]
                      },
                      {
                        "test": [
                          0.7036597428,
                          0.597003841
                        ],
                        "passed_time": 0.7244551392,
                        "iteration": 9,
                        "remaining_time": 144.1665727,
                        "learn": [
                          0.6741844287,
                          0.6112110234
                        ]
                      },
                      {
                        "test": [
                          0.7055379119,
                          0.5913657772
                        ],
                        "passed_time": 0.7849066741,
                        "iteration": 10,
                        "remaining_time": 141.9253977,
                        "learn": [
                          0.6757444204,
                          0.6063085312
                        ]
                      },
                      {
                        "test": [
                          0.7047675745,
                          0.5887534554
                        ],
                        "passed_time": 0.8444480094,
                        "iteration": 11,
                        "remaining_time": 139.8968869,
                        "learn": [
                          0.6771681619,
                          0.6040469281
                        ]
                      },
                      {
                        "test": [
                          0.7071229606,
                          0.5843464229
                        ],
                        "passed_time": 0.9229075858,
                        "iteration": 12,
                        "remaining_time": 141.0628748,
                        "learn": [
                          0.6775341976,
                          0.600386064
                        ]
                      },
                      {
                        "test": [
                          0.7053607015,
                          0.5824340247
                        ],
                        "passed_time": 0.9829088857,
                        "iteration": 13,
                        "remaining_time": 139.4326462,
                        "learn": [
                          0.6788022487,
                          0.5988316117
                        ]
                      },
                      {
                        "test": [
                          0.7056184256,
                          0.5809509662
                        ],
                        "passed_time": 1.041436216,
                        "iteration": 14,
                        "remaining_time": 137.8167259,
                        "learn": [
                          0.6792606704,
                          0.5974973962
                        ]
                      },
                      {
                        "test": [
                          0.7068802076,
                          0.5776815475
                        ],
                        "passed_time": 1.101270766,
                        "iteration": 15,
                        "remaining_time": 136.557575,
                        "learn": [
                          0.6801834266,
                          0.5948372669
                        ]
                      },
                      {
                        "test": [
                          0.7083166733,
                          0.5750701535
                        ],
                        "passed_time": 1.167139435,
                        "iteration": 16,
                        "remaining_time": 136.1433823,
                        "learn": [
                          0.681735824,
                          0.5924164682
                        ]
                      },
                      {
                        "test": [
                          0.7077030603,
                          0.5730583312
                        ],
                        "passed_time": 1.225812091,
                        "iteration": 17,
                        "remaining_time": 134.9755313,
                        "learn": [
                          0.6830393556,
                          0.5906175578
                        ]
                      },
                      {
                        "test": [
                          0.7092623073,
                          0.5711629268
                        ],
                        "passed_time": 1.279241652,
                        "iteration": 18,
                        "remaining_time": 133.3777743,
                        "learn": [
                          0.6844988597,
                          0.5888880392
                        ]
                      },
                      {
                        "test": [
                          0.7117256527,
                          0.5681224372
                        ],
                        "passed_time": 1.348482249,
                        "iteration": 19,
                        "remaining_time": 133.4997427,
                        "learn": [
                          0.6864518596,
                          0.5861495329
                        ]
                      },
                      {
                        "test": [
                          0.7135367254,
                          0.5652846535
                        ],
                        "passed_time": 1.407363819,
                        "iteration": 20,
                        "remaining_time": 132.6272856,
                        "learn": [
                          0.6887038664,
                          0.5836185669
                        ]
                      },
                      {
                        "test": [
                          0.7147989223,
                          0.5629668436
                        ],
                        "passed_time": 1.464783044,
                        "iteration": 21,
                        "remaining_time": 131.6973118,
                        "learn": [
                          0.6897718312,
                          0.5815479009
                        ]
                      },
                      {
                        "test": [
                          0.715539597,
                          0.560947501
                        ],
                        "passed_time": 1.526452547,
                        "iteration": 22,
                        "remaining_time": 131.2085515,
                        "learn": [
                          0.6909628952,
                          0.5797904497
                        ]
                      },
                      {
                        "test": [
                          0.7147982063,
                          0.55989095
                        ],
                        "passed_time": 1.583324565,
                        "iteration": 23,
                        "remaining_time": 130.3603892,
                        "learn": [
                          0.6916032569,
                          0.5788293673
                        ]
                      },
                      {
                        "test": [
                          0.7159595154,
                          0.5583891397
                        ],
                        "passed_time": 1.637803028,
                        "iteration": 24,
                        "remaining_time": 129.3864392,
                        "learn": [
                          0.6925583164,
                          0.5774582829
                        ]
                      },
                      {
                        "test": [
                          0.717516939,
                          0.5571111799
                        ],
                        "passed_time": 1.696940499,
                        "iteration": 25,
                        "remaining_time": 128.8369441,
                        "learn": [
                          0.6936851907,
                          0.5762258355
                        ]
                      },
                      {
                        "test": [
                          0.7186690576,
                          0.5558875712
                        ],
                        "passed_time": 1.753383894,
                        "iteration": 26,
                        "remaining_time": 128.1269046,
                        "learn": [
                          0.6949469902,
                          0.5750903215
                        ]
                      },
                      {
                        "test": [
                          0.7186862404,
                          0.5552645108
                        ],
                        "passed_time": 1.810467335,
                        "iteration": 27,
                        "remaining_time": 127.508628,
                        "learn": [
                          0.6953354705,
                          0.5744866479
                        ]
                      },
                      {
                        "test": [
                          0.7184205291,
                          0.5537459508
                        ],
                        "passed_time": 1.865872319,
                        "iteration": 28,
                        "remaining_time": 126.8149773,
                        "learn": [
                          0.6961700406,
                          0.572889369
                        ]
                      },
                      {
                        "test": [
                          0.7192240736,
                          0.5526436433
                        ],
                        "passed_time": 1.921383707,
                        "iteration": 29,
                        "remaining_time": 126.1708634,
                        "learn": [
                          0.6968398974,
                          0.5720050032
                        ]
                      },
                      {
                        "test": [
                          0.7202069961,
                          0.5514160303
                        ],
                        "passed_time": 1.981476434,
                        "iteration": 30,
                        "remaining_time": 125.8557128,
                        "learn": [
                          0.6975700131,
                          0.5709074814
                        ]
                      },
                      {
                        "test": [
                          0.720616762,
                          0.5505012415
                        ],
                        "passed_time": 2.044575037,
                        "iteration": 31,
                        "remaining_time": 125.7413648,
                        "learn": [
                          0.698132282,
                          0.5700907005
                        ]
                      },
                      {
                        "test": [
                          0.7209186717,
                          0.5503732014
                        ],
                        "passed_time": 2.101884006,
                        "iteration": 32,
                        "remaining_time": 125.2850255,
                        "learn": [
                          0.6981832883,
                          0.569893757
                        ]
                      },
                      {
                        "test": [
                          0.7213245165,
                          0.5491963259
                        ],
                        "passed_time": 2.188237024,
                        "iteration": 33,
                        "remaining_time": 126.5315879,
                        "learn": [
                          0.6989379033,
                          0.5687775321
                        ]
                      },
                      {
                        "test": [
                          0.7212527964,
                          0.5490461155
                        ],
                        "passed_time": 2.24380299,
                        "iteration": 34,
                        "remaining_time": 125.9735107,
                        "learn": [
                          0.6993611756,
                          0.5685738007
                        ]
                      },
                      {
                        "test": [
                          0.7229323121,
                          0.5483326165
                        ],
                        "passed_time": 2.298821277,
                        "iteration": 35,
                        "remaining_time": 125.4134719,
                        "learn": [
                          0.7004003404,
                          0.5678396453
                        ]
                      },
                      {
                        "test": [
                          0.7230532227,
                          0.5477535058
                        ],
                        "passed_time": 2.366195905,
                        "iteration": 36,
                        "remaining_time": 125.5362855,
                        "learn": [
                          0.7007174108,
                          0.5673275824
                        ]
                      },
                      {
                        "test": [
                          0.7233091667,
                          0.5467077469
                        ],
                        "passed_time": 2.419389795,
                        "iteration": 37,
                        "remaining_time": 124.9169152,
                        "learn": [
                          0.7011329124,
                          0.5664298363
                        ]
                      },
                      {
                        "test": [
                          0.7236385279,
                          0.5461097868
                        ],
                        "passed_time": 2.482110163,
                        "iteration": 38,
                        "remaining_time": 124.8055905,
                        "learn": [
                          0.7015921802,
                          0.5659045397
                        ]
                      },
                      {
                        "test": [
                          0.7242234792,
                          0.5455327271
                        ],
                        "passed_time": 2.540350971,
                        "iteration": 39,
                        "remaining_time": 124.4771976,
                        "learn": [
                          0.7019945101,
                          0.5654563503
                        ]
                      },
                      {
                        "test": [
                          0.7246204227,
                          0.5451258016
                        ],
                        "passed_time": 2.594732487,
                        "iteration": 40,
                        "remaining_time": 123.977584,
                        "learn": [
                          0.7022316256,
                          0.5651381544
                        ]
                      },
                      {
                        "test": [
                          0.7250482936,
                          0.5445644662
                        ],
                        "passed_time": 2.653035344,
                        "iteration": 41,
                        "remaining_time": 123.681981,
                        "learn": [
                          0.7025124806,
                          0.5646134926
                        ]
                      },
                      {
                        "test": [
                          0.7255629795,
                          0.5440558704
                        ],
                        "passed_time": 2.708470699,
                        "iteration": 42,
                        "remaining_time": 123.2669106,
                        "learn": [
                          0.7030841216,
                          0.5640635841
                        ]
                      },
                      {
                        "test": [
                          0.7261492832,
                          0.5435972796
                        ],
                        "passed_time": 2.770728055,
                        "iteration": 43,
                        "remaining_time": 123.1714563,
                        "learn": [
                          0.7031978974,
                          0.5636467944
                        ]
                      },
                      {
                        "test": [
                          0.7257546564,
                          0.5433581444
                        ],
                        "passed_time": 2.834733251,
                        "iteration": 44,
                        "remaining_time": 123.1534112,
                        "learn": [
                          0.7036017349,
                          0.5633826078
                        ]
                      },
                      {
                        "test": [
                          0.7262122485,
                          0.5431450372
                        ],
                        "passed_time": 2.893978725,
                        "iteration": 45,
                        "remaining_time": 122.9311832,
                        "learn": [
                          0.7038833731,
                          0.5631224255
                        ]
                      },
                      {
                        "test": [
                          0.7256190994,
                          0.5427235106
                        ],
                        "passed_time": 2.953219385,
                        "iteration": 46,
                        "remaining_time": 122.7156906,
                        "learn": [
                          0.7043300782,
                          0.5627166721
                        ]
                      },
                      {
                        "test": [
                          0.7262564306,
                          0.5423475453
                        ],
                        "passed_time": 3.008612797,
                        "iteration": 47,
                        "remaining_time": 122.3502537,
                        "learn": [
                          0.7046931408,
                          0.5623388022
                        ]
                      },
                      {
                        "test": [
                          0.7257952631,
                          0.5414062891
                        ],
                        "passed_time": 3.063955276,
                        "iteration": 48,
                        "remaining_time": 121.9954437,
                        "learn": [
                          0.7050206971,
                          0.5615704149
                        ]
                      },
                      {
                        "test": [
                          0.7264057222,
                          0.5402903572
                        ],
                        "passed_time": 3.120687592,
                        "iteration": 49,
                        "remaining_time": 121.7068161,
                        "learn": [
                          0.7059865681,
                          0.5605029253
                        ]
                      },
                      {
                        "test": [
                          0.7266573761,
                          0.5397012357
                        ],
                        "passed_time": 3.187275613,
                        "iteration": 50,
                        "remaining_time": 121.8039249,
                        "learn": [
                          0.7064964468,
                          0.5599007655
                        ]
                      },
                      {
                        "test": [
                          0.7270918317,
                          0.5394800711
                        ],
                        "passed_time": 3.23971614,
                        "iteration": 51,
                        "remaining_time": 121.3647508,
                        "learn": [
                          0.7066945843,
                          0.5596910765
                        ]
                      },
                      {
                        "test": [
                          0.7269104314,
                          0.5391746206
                        ],
                        "passed_time": 3.298066921,
                        "iteration": 52,
                        "remaining_time": 121.1572886,
                        "learn": [
                          0.7071249395,
                          0.5593046609
                        ]
                      },
                      {
                        "test": [
                          0.7276623312,
                          0.5390759291
                        ],
                        "passed_time": 3.367830562,
                        "iteration": 53,
                        "remaining_time": 121.3666347,
                        "learn": [
                          0.7073087947,
                          0.5591873152
                        ]
                      },
                      {
                        "test": [
                          0.7275174477,
                          0.5390134717
                        ],
                        "passed_time": 3.42664479,
                        "iteration": 54,
                        "remaining_time": 121.1786203,
                        "learn": [
                          0.7075723761,
                          0.5590403279
                        ]
                      },
                      {
                        "test": [
                          0.728332918,
                          0.5384752342
                        ],
                        "passed_time": 3.485864235,
                        "iteration": 55,
                        "remaining_time": 121.009287,
                        "learn": [
                          0.7079386644,
                          0.5585207447
                        ]
                      },
                      {
                        "test": [
                          0.7285336526,
                          0.5380561982
                        ],
                        "passed_time": 3.542171875,
                        "iteration": 56,
                        "remaining_time": 120.7445606,
                        "learn": [
                          0.7083582296,
                          0.558113282
                        ]
                      },
                      {
                        "test": [
                          0.7285151379,
                          0.5371461951
                        ],
                        "passed_time": 3.604421176,
                        "iteration": 57,
                        "remaining_time": 120.6859642,
                        "learn": [
                          0.7089092978,
                          0.557218759
                        ]
                      },
                      {
                        "test": [
                          0.7288609364,
                          0.5370243079
                        ],
                        "passed_time": 3.659339884,
                        "iteration": 58,
                        "remaining_time": 120.3860799,
                        "learn": [
                          0.7087653987,
                          0.5570357329
                        ]
                      },
                      {
                        "test": [
                          0.7293225581,
                          0.5366340345
                        ],
                        "passed_time": 3.716543907,
                        "iteration": 59,
                        "remaining_time": 120.168253,
                        "learn": [
                          0.709247777,
                          0.5567004943
                        ]
                      },
                      {
                        "test": [
                          0.7291531351,
                          0.5363786379
                        ],
                        "passed_time": 3.770176247,
                        "iteration": 60,
                        "remaining_time": 119.8421597,
                        "learn": [
                          0.7093608455,
                          0.5564054941
                        ]
                      },
                      {
                        "test": [
                          0.7295245705,
                          0.5360579515
                        ],
                        "passed_time": 3.821361887,
                        "iteration": 61,
                        "remaining_time": 119.4483764,
                        "learn": [
                          0.709521204,
                          0.5560595122
                        ]
                      },
                      {
                        "test": [
                          0.7296420191,
                          0.5357515732
                        ],
                        "passed_time": 3.876076305,
                        "iteration": 62,
                        "remaining_time": 119.1739651,
                        "learn": [
                          0.7103695324,
                          0.555665674
                        ]
                      },
                      {
                        "test": [
                          0.7295691678,
                          0.5355730397
                        ],
                        "passed_time": 3.928391763,
                        "iteration": 63,
                        "remaining_time": 118.8338508,
                        "learn": [
                          0.7103411005,
                          0.5555280137
                        ]
                      },
                      {
                        "test": [
                          0.7298497779,
                          0.5354907561
                        ],
                        "passed_time": 3.983639473,
                        "iteration": 64,
                        "remaining_time": 118.5898828,
                        "learn": [
                          0.7103741326,
                          0.555384347
                        ]
                      },
                      {
                        "test": [
                          0.7299051423,
                          0.535412721
                        ],
                        "passed_time": 4.043826922,
                        "iteration": 65,
                        "remaining_time": 118.4963828,
                        "learn": [
                          0.7106729209,
                          0.5552253468
                        ]
                      },
                      {
                        "test": [
                          0.730314076,
                          0.5352188051
                        ],
                        "passed_time": 4.096912277,
                        "iteration": 66,
                        "remaining_time": 118.1989766,
                        "learn": [
                          0.7108233815,
                          0.5549811329
                        ]
                      },
                      {
                        "test": [
                          0.7300588999,
                          0.5350624906
                        ],
                        "passed_time": 4.151981797,
                        "iteration": 67,
                        "remaining_time": 117.9651299,
                        "learn": [
                          0.7109904679,
                          0.554738091
                        ]
                      },
                      {
                        "test": [
                          0.7298767404,
                          0.5350046723
                        ],
                        "passed_time": 4.235749483,
                        "iteration": 68,
                        "remaining_time": 118.5395978,
                        "learn": [
                          0.7110348598,
                          0.5545955963
                        ]
                      },
                      {
                        "test": [
                          0.7303931351,
                          0.5349403104
                        ],
                        "passed_time": 4.288490183,
                        "iteration": 69,
                        "remaining_time": 118.2398008,
                        "learn": [
                          0.7110627785,
                          0.5544814735
                        ]
                      },
                      {
                        "test": [
                          0.7301761565,
                          0.5348826875
                        ],
                        "passed_time": 4.348381663,
                        "iteration": 70,
                        "remaining_time": 118.1412426,
                        "learn": [
                          0.7111739745,
                          0.5543712574
                        ]
                      },
                      {
                        "test": [
                          0.7303774715,
                          0.534731647
                        ],
                        "passed_time": 4.413331167,
                        "iteration": 71,
                        "remaining_time": 118.1792012,
                        "learn": [
                          0.7113999472,
                          0.5541252367
                        ]
                      },
                      {
                        "test": [
                          0.7307212378,
                          0.5347011264
                        ],
                        "passed_time": 4.468585598,
                        "iteration": 72,
                        "remaining_time": 117.9584171,
                        "learn": [
                          0.7116535116,
                          0.5540448576
                        ]
                      },
                      {
                        "test": [
                          0.7308172957,
                          0.5339636014
                        ],
                        "passed_time": 4.530404917,
                        "iteration": 73,
                        "remaining_time": 117.9129712,
                        "learn": [
                          0.711991354,
                          0.5532964429
                        ]
                      },
                      {
                        "test": [
                          0.7305191557,
                          0.533903195
                        ],
                        "passed_time": 4.589204185,
                        "iteration": 74,
                        "remaining_time": 117.7895741,
                        "learn": [
                          0.7122809222,
                          0.5531510182
                        ]
                      },
                      {
                        "test": [
                          0.7303539292,
                          0.5338719907
                        ],
                        "passed_time": 4.642740982,
                        "iteration": 75,
                        "remaining_time": 117.5346533,
                        "learn": [
                          0.7122575133,
                          0.5530650721
                        ]
                      },
                      {
                        "test": [
                          0.7306538692,
                          0.5337137718
                        ],
                        "passed_time": 4.700790421,
                        "iteration": 76,
                        "remaining_time": 117.3976621,
                        "learn": [
                          0.7122843609,
                          0.5528401473
                        ]
                      },
                      {
                        "test": [
                          0.7308,
                          0.5336878414
                        ],
                        "passed_time": 4.756857116,
                        "iteration": 77,
                        "remaining_time": 117.2138382,
                        "learn": [
                          0.7123452912,
                          0.5527689488
                        ]
                      },
                      {
                        "test": [
                          0.7309269073,
                          0.5335929101
                        ],
                        "passed_time": 4.827549493,
                        "iteration": 78,
                        "remaining_time": 117.3888934,
                        "learn": [
                          0.7124399869,
                          0.5526213266
                        ]
                      },
                      {
                        "test": [
                          0.7308787531,
                          0.5335450049
                        ],
                        "passed_time": 4.887393546,
                        "iteration": 79,
                        "remaining_time": 117.2974451,
                        "learn": [
                          0.7126416553,
                          0.552506862
                        ]
                      },
                      {
                        "test": [
                          0.7305173707,
                          0.5335089173
                        ],
                        "passed_time": 4.942087744,
                        "iteration": 80,
                        "remaining_time": 117.0847701,
                        "learn": [
                          0.7127035012,
                          0.5524151536
                        ]
                      },
                      {
                        "test": [
                          0.7305748737,
                          0.5334318588
                        ],
                        "passed_time": 4.997688732,
                        "iteration": 81,
                        "remaining_time": 116.8971584,
                        "learn": [
                          0.7128305989,
                          0.5522344715
                        ]
                      },
                      {
                        "test": [
                          0.7308442045,
                          0.5333207149
                        ],
                        "passed_time": 5.051876264,
                        "iteration": 82,
                        "remaining_time": 116.6800819,
                        "learn": [
                          0.7130898213,
                          0.5520746411
                        ]
                      },
                      {
                        "test": [
                          0.7307365368,
                          0.5331904773
                        ],
                        "passed_time": 5.10487749,
                        "iteration": 83,
                        "remaining_time": 116.4398246,
                        "learn": [
                          0.7131464339,
                          0.5518567482
                        ]
                      },
                      {
                        "test": [
                          0.7312880983,
                          0.5331851545
                        ],
                        "passed_time": 5.167500268,
                        "iteration": 84,
                        "remaining_time": 116.4207413,
                        "learn": [
                          0.7131710872,
                          0.5517697278
                        ]
                      },
                      {
                        "test": [
                          0.7316123234,
                          0.5332029297
                        ],
                        "passed_time": 5.236321726,
                        "iteration": 85,
                        "remaining_time": 116.5386021,
                        "learn": [
                          0.7133373112,
                          0.5516887626
                        ]
                      },
                      {
                        "test": [
                          0.7317292332,
                          0.5330937391
                        ],
                        "passed_time": 5.291692936,
                        "iteration": 86,
                        "remaining_time": 116.3564205,
                        "learn": [
                          0.713582603,
                          0.5515346457
                        ]
                      },
                      {
                        "test": [
                          0.731629393,
                          0.5330242009
                        ],
                        "passed_time": 5.344931585,
                        "iteration": 87,
                        "remaining_time": 116.1307862,
                        "learn": [
                          0.713681489,
                          0.5513818472
                        ]
                      },
                      {
                        "test": [
                          0.7312568633,
                          0.5329350806
                        ],
                        "passed_time": 5.40837377,
                        "iteration": 88,
                        "remaining_time": 116.1281154,
                        "learn": [
                          0.7136663927,
                          0.5512681151
                        ]
                      },
                      {
                        "test": [
                          0.7311860175,
                          0.532876774
                        ],
                        "passed_time": 5.464458014,
                        "iteration": 89,
                        "remaining_time": 115.9679423,
                        "learn": [
                          0.7138493191,
                          0.551159364
                        ]
                      },
                      {
                        "test": [
                          0.731412593,
                          0.5328459115
                        ],
                        "passed_time": 5.522840162,
                        "iteration": 90,
                        "remaining_time": 115.8582623,
                        "learn": [
                          0.714052759,
                          0.5510620398
                        ]
                      },
                      {
                        "test": [
                          0.7315392681,
                          0.532784089
                        ],
                        "passed_time": 5.585668995,
                        "iteration": 91,
                        "remaining_time": 115.8419179,
                        "learn": [
                          0.7143107967,
                          0.5509263329
                        ]
                      },
                      {
                        "test": [
                          0.7315831503,
                          0.532622647
                        ],
                        "passed_time": 5.639999188,
                        "iteration": 92,
                        "remaining_time": 115.6503059,
                        "learn": [
                          0.7144612299,
                          0.5507938977
                        ]
                      },
                      {
                        "test": [
                          0.7317632971,
                          0.5325599454
                        ],
                        "passed_time": 5.701141854,
                        "iteration": 93,
                        "remaining_time": 115.5997487,
                        "learn": [
                          0.7147395928,
                          0.5506993082
                        ]
                      },
                      {
                        "test": [
                          0.7319896228,
                          0.5325125774
                        ],
                        "passed_time": 5.755839517,
                        "iteration": 94,
                        "remaining_time": 115.4197293,
                        "learn": [
                          0.7147404966,
                          0.5506355811
                        ]
                      },
                      {
                        "test": [
                          0.7319896228,
                          0.5324947534
                        ],
                        "passed_time": 5.808935756,
                        "iteration": 95,
                        "remaining_time": 115.2105592,
                        "learn": [
                          0.7147753833,
                          0.5505503187
                        ]
                      },
                      {
                        "test": [
                          0.7317219337,
                          0.5324795663
                        ],
                        "passed_time": 5.863956635,
                        "iteration": 96,
                        "remaining_time": 115.0423657,
                        "learn": [
                          0.7148345209,
                          0.5504712092
                        ]
                      },
                      {
                        "test": [
                          0.7315660726,
                          0.5324456274
                        ],
                        "passed_time": 5.915806364,
                        "iteration": 97,
                        "remaining_time": 114.8149358,
                        "learn": [
                          0.7148051557,
                          0.5503976667
                        ]
                      },
                      {
                        "test": [
                          0.7319093722,
                          0.5324537337
                        ],
                        "passed_time": 5.970864468,
                        "iteration": 98,
                        "remaining_time": 114.6526601,
                        "learn": [
                          0.7149313892,
                          0.550334721
                        ]
                      },
                      {
                        "test": [
                          0.7317584778,
                          0.5323800935
                        ],
                        "passed_time": 6.031755874,
                        "iteration": 99,
                        "remaining_time": 114.6033616,
                        "learn": [
                          0.7149671249,
                          0.5502309508
                        ]
                      },
                      {
                        "test": [
                          0.7318851436,
                          0.5323349229
                        ],
                        "passed_time": 6.095125628,
                        "iteration": 100,
                        "remaining_time": 114.6004314,
                        "learn": [
                          0.7150253222,
                          0.5501565293
                        ]
                      },
                      {
                        "test": [
                          0.7320758493,
                          0.5319949475
                        ],
                        "passed_time": 6.158408561,
                        "iteration": 101,
                        "remaining_time": 114.5947005,
                        "learn": [
                          0.7147616687,
                          0.5498185561
                        ]
                      },
                      {
                        "test": [
                          0.7323760444,
                          0.5319675522
                        ],
                        "passed_time": 6.230997727,
                        "iteration": 102,
                        "remaining_time": 114.7592494,
                        "learn": [
                          0.714876422,
                          0.5497407651
                        ]
                      },
                      {
                        "test": [
                          0.7324761095,
                          0.5319337109
                        ],
                        "passed_time": 6.283194017,
                        "iteration": 103,
                        "remaining_time": 114.5474602,
                        "learn": [
                          0.7149447363,
                          0.5496974014
                        ]
                      },
                      {
                        "test": [
                          0.7324550418,
                          0.5315003668
                        ],
                        "passed_time": 6.342853098,
                        "iteration": 104,
                        "remaining_time": 114.4733964,
                        "learn": [
                          0.7151280715,
                          0.5492199611
                        ]
                      },
                      {
                        "test": [
                          0.7322207187,
                          0.5313146549
                        ],
                        "passed_time": 6.405884487,
                        "iteration": 105,
                        "remaining_time": 114.4598605,
                        "learn": [
                          0.7152061694,
                          0.5490537823
                        ]
                      },
                      {
                        "test": [
                          0.7326821938,
                          0.5312827669
                        ],
                        "passed_time": 6.464463743,
                        "iteration": 106,
                        "remaining_time": 114.3666342,
                        "learn": [
                          0.7152571533,
                          0.5489950851
                        ]
                      },
                      {
                        "test": [
                          0.7328458379,
                          0.5312099569
                        ],
                        "passed_time": 6.522781062,
                        "iteration": 107,
                        "remaining_time": 114.2694608,
                        "learn": [
                          0.7152283786,
                          0.5489383411
                        ]
                      },
                      {
                        "test": [
                          0.7326722756,
                          0.531218405
                        ],
                        "passed_time": 6.583136513,
                        "iteration": 108,
                        "remaining_time": 114.2083591,
                        "learn": [
                          0.7154274521,
                          0.5488434097
                        ]
                      },
                      {
                        "test": [
                          0.7324818432,
                          0.5312196259
                        ],
                        "passed_time": 6.640745459,
                        "iteration": 109,
                        "remaining_time": 114.1000811,
                        "learn": [
                          0.7155207594,
                          0.5487939419
                        ]
                      },
                      {
                        "test": [
                          0.7327823691,
                          0.5311893982
                        ],
                        "passed_time": 6.697914356,
                        "iteration": 110,
                        "remaining_time": 113.9852272,
                        "learn": [
                          0.7156057753,
                          0.548750041
                        ]
                      },
                      {
                        "test": [
                          0.7332265171,
                          0.5310824539
                        ],
                        "passed_time": 6.753845766,
                        "iteration": 111,
                        "remaining_time": 113.8505429,
                        "learn": [
                          0.7156971051,
                          0.5486109646
                        ]
                      },
                      {
                        "test": [
                          0.7331898062,
                          0.531096176
                        ],
                        "passed_time": 6.809065929,
                        "iteration": 112,
                        "remaining_time": 113.7053753,
                        "learn": [
                          0.7157732211,
                          0.548576928
                        ]
                      },
                      {
                        "test": [
                          0.7334368271,
                          0.5310240497
                        ],
                        "passed_time": 6.876104713,
                        "iteration": 113,
                        "remaining_time": 113.7573113,
                        "learn": [
                          0.7158880499,
                          0.5484876124
                        ]
                      },
                      {
                        "test": [
                          0.7332465191,
                          0.5310067628
                        ],
                        "passed_time": 6.931788449,
                        "iteration": 114,
                        "remaining_time": 113.6210541,
                        "learn": [
                          0.7159212162,
                          0.5484563105
                        ]
                      },
                      {
                        "test": [
                          0.7334368271,
                          0.5308996232
                        ],
                        "passed_time": 6.984008628,
                        "iteration": 115,
                        "remaining_time": 113.4299332,
                        "learn": [
                          0.7160335805,
                          0.5483154761
                        ]
                      },
                      {
                        "test": [
                          0.7338741987,
                          0.530717769
                        ],
                        "passed_time": 7.040181817,
                        "iteration": 116,
                        "remaining_time": 113.3048065,
                        "learn": [
                          0.7162967517,
                          0.5481363566
                        ]
                      },
                      {
                        "test": [
                          0.7342279191,
                          0.5306296255
                        ],
                        "passed_time": 7.095942734,
                        "iteration": 117,
                        "remaining_time": 113.1742731,
                        "learn": [
                          0.7164401952,
                          0.5480561728
                        ]
                      },
                      {
                        "test": [
                          0.7339477111,
                          0.5306177102
                        ],
                        "passed_time": 7.159715469,
                        "iteration": 118,
                        "remaining_time": 113.1716369,
                        "learn": [
                          0.7164626687,
                          0.5480071445
                        ]
                      },
                      {
                        "test": [
                          0.7343014522,
                          0.5306071134
                        ],
                        "passed_time": 7.212278136,
                        "iteration": 119,
                        "remaining_time": 112.9923575,
                        "learn": [
                          0.7164501214,
                          0.5479612903
                        ]
                      },
                      {
                        "test": [
                          0.734244381,
                          0.5305732233
                        ],
                        "passed_time": 7.288504123,
                        "iteration": 120,
                        "remaining_time": 113.1826384,
                        "learn": [
                          0.7165588916,
                          0.5478877966
                        ]
                      },
                      {
                        "test": [
                          0.7340276387,
                          0.530422427
                        ],
                        "passed_time": 7.347202608,
                        "iteration": 121,
                        "remaining_time": 113.0987418,
                        "learn": [
                          0.7162247811,
                          0.5477325565
                        ]
                      },
                      {
                        "test": [
                          0.7339807769,
                          0.530350789
                        ],
                        "passed_time": 7.417133012,
                        "iteration": 122,
                        "remaining_time": 113.1866558,
                        "learn": [
                          0.7164014258,
                          0.5476535447
                        ]
                      },
                      {
                        "test": [
                          0.7336839469,
                          0.5303214892
                        ],
                        "passed_time": 7.478879421,
                        "iteration": 123,
                        "remaining_time": 113.148208,
                        "learn": [
                          0.7165278728,
                          0.5475810276
                        ]
                      },
                      {
                        "test": [
                          0.7341683367,
                          0.5301170742
                        ],
                        "passed_time": 7.540687311,
                        "iteration": 124,
                        "remaining_time": 113.1103097,
                        "learn": [
                          0.7166732564,
                          0.5473053653
                        ]
                      },
                      {
                        "test": [
                          0.7341112836,
                          0.5301210785
                        ],
                        "passed_time": 7.597068192,
                        "iteration": 125,
                        "remaining_time": 112.9913158,
                        "learn": [
                          0.7167765016,
                          0.547274161
                        ]
                      },
                      {
                        "test": [
                          0.7340643934,
                          0.5301056473
                        ],
                        "passed_time": 7.651062155,
                        "iteration": 126,
                        "remaining_time": 112.8381056,
                        "learn": [
                          0.7167244063,
                          0.5472420289
                        ]
                      },
                      {
                        "test": [
                          0.7338641029,
                          0.5300900696
                        ],
                        "passed_time": 7.706736228,
                        "iteration": 127,
                        "remaining_time": 112.7110173,
                        "learn": [
                          0.7168383197,
                          0.5471864081
                        ]
                      },
                      {
                        "test": [
                          0.7341277789,
                          0.530073564
                        ],
                        "passed_time": 7.765278104,
                        "iteration": 128,
                        "remaining_time": 112.6266305,
                        "learn": [
                          0.7168774121,
                          0.5471511018
                        ]
                      },
                      {
                        "test": [
                          0.7341277789,
                          0.5300622347
                        ],
                        "passed_time": 7.819378932,
                        "iteration": 129,
                        "remaining_time": 112.4787585,
                        "learn": [
                          0.7168577543,
                          0.5471173582
                        ]
                      },
                      {
                        "test": [
                          0.7338806568,
                          0.5298283246
                        ],
                        "passed_time": 7.873312838,
                        "iteration": 130,
                        "remaining_time": 112.3299366,
                        "learn": [
                          0.7170611712,
                          0.546925005
                        ]
                      },
                      {
                        "test": [
                          0.7340643934,
                          0.5298011246
                        ],
                        "passed_time": 7.927375138,
                        "iteration": 131,
                        "remaining_time": 112.1843694,
                        "learn": [
                          0.7171901563,
                          0.546853953
                        ]
                      },
                      {
                        "test": [
                          0.7338641029,
                          0.5297953623
                        ],
                        "passed_time": 7.982580875,
                        "iteration": 132,
                        "remaining_time": 112.0562293,
                        "learn": [
                          0.7171227247,
                          0.5468110776
                        ]
                      },
                      {
                        "test": [
                          0.7340377585,
                          0.5297649882
                        ],
                        "passed_time": 8.041776012,
                        "iteration": 133,
                        "remaining_time": 111.9847316,
                        "learn": [
                          0.7171620206,
                          0.5467488643
                        ]
                      },
                      {
                        "test": [
                          0.7341277789,
                          0.5297466758
                        ],
                        "passed_time": 8.09628013,
                        "iteration": 134,
                        "remaining_time": 111.8486107,
                        "learn": [
                          0.717158219,
                          0.5467041821
                        ]
                      },
                      {
                        "test": [
                          0.734364829,
                          0.5297276798
                        ],
                        "passed_time": 8.152279899,
                        "iteration": 135,
                        "remaining_time": 111.7341892,
                        "learn": [
                          0.7171004744,
                          0.5466258052
                        ]
                      },
                      {
                        "test": [
                          0.7344485626,
                          0.5296819721
                        ],
                        "passed_time": 8.21265746,
                        "iteration": 136,
                        "remaining_time": 111.6801522,
                        "learn": [
                          0.7172266667,
                          0.5465474282
                        ]
                      },
                      {
                        "test": [
                          0.7346591194,
                          0.5296490098
                        ],
                        "passed_time": 8.28632783,
                        "iteration": 137,
                        "remaining_time": 111.8053799,
                        "learn": [
                          0.7173592506,
                          0.5464139187
                        ]
                      },
                      {
                        "test": [
                          0.7345385347,
                          0.5296242515
                        ],
                        "passed_time": 8.338085898,
                        "iteration": 138,
                        "remaining_time": 111.6343731,
                        "learn": [
                          0.7174196787,
                          0.546353903
                        ]
                      },
                      {
                        "test": [
                          0.7349228612,
                          0.5294566078
                        ],
                        "passed_time": 8.396385985,
                        "iteration": 139,
                        "remaining_time": 111.5519852,
                        "learn": [
                          0.7175709508,
                          0.546155641
                        ]
                      },
                      {
                        "test": [
                          0.7351335103,
                          0.5294469388
                        ],
                        "passed_time": 8.467940777,
                        "iteration": 140,
                        "remaining_time": 111.6446944,
                        "learn": [
                          0.7175219951,
                          0.5460999713
                        ]
                      },
                      {
                        "test": [
                          0.7352808538,
                          0.5294533848
                        ],
                        "passed_time": 8.523217949,
                        "iteration": 141,
                        "remaining_time": 111.5221053,
                        "learn": [
                          0.7176729007,
                          0.5460677415
                        ]
                      },
                      {
                        "test": [
                          0.7353442229,
                          0.5294423485
                        ],
                        "passed_time": 8.580778229,
                        "iteration": 142,
                        "remaining_time": 111.4301061,
                        "learn": [
                          0.7177900636,
                          0.5460182737
                        ]
                      },
                      {
                        "test": [
                          0.7354709419,
                          0.529445718
                        ],
                        "passed_time": 8.635007279,
                        "iteration": 143,
                        "remaining_time": 111.2956494,
                        "learn": [
                          0.7177566106,
                          0.5459939549
                        ]
                      },
                      {
                        "test": [
                          0.7353073801,
                          0.5294399557
                        ],
                        "passed_time": 8.691046788,
                        "iteration": 144,
                        "remaining_time": 111.1854606,
                        "learn": [
                          0.7177591444,
                          0.5459598694
                        ]
                      },
                      {
                        "test": [
                          0.7348902476,
                          0.5293803306
                        ],
                        "passed_time": 8.748328934,
                        "iteration": 145,
                        "remaining_time": 111.0917934,
                        "learn": [
                          0.7176500126,
                          0.5459195334
                        ]
                      },
                      {
                        "test": [
                          0.7348902476,
                          0.5293577209
                        ],
                        "passed_time": 8.803235172,
                        "iteration": 146,
                        "remaining_time": 110.9686719,
                        "learn": [
                          0.7177433528,
                          0.5458913079
                        ]
                      },
                      {
                        "test": [
                          0.7347102466,
                          0.5293487357
                        ],
                        "passed_time": 8.856888065,
                        "iteration": 147,
                        "remaining_time": 110.8307885,
                        "learn": [
                          0.7176773384,
                          0.5458605431
                        ]
                      },
                      {
                        "test": [
                          0.7349741842,
                          0.5289458633
                        ],
                        "passed_time": 8.913337412,
                        "iteration": 148,
                        "remaining_time": 110.7287755,
                        "learn": [
                          0.7181311648,
                          0.5454855544
                        ]
                      },
                      {
                        "test": [
                          0.734910768,
                          0.5289064551
                        ],
                        "passed_time": 8.970656628,
                        "iteration": 149,
                        "remaining_time": 110.6380984,
                        "learn": [
                          0.7181842135,
                          0.545402929
                        ]
                      },
                      {
                        "test": [
                          0.7352911697,
                          0.5288580128
                        ],
                        "passed_time": 9.025751275,
                        "iteration": 150,
                        "remaining_time": 110.5206232,
                        "learn": [
                          0.718172636,
                          0.5453500428
                        ]
                      },
                      {
                        "test": [
                          0.7352277853,
                          0.5288573291
                        ],
                        "passed_time": 9.082772892,
                        "iteration": 151,
                        "remaining_time": 110.4273967,
                        "learn": [
                          0.7182366892,
                          0.5453083394
                        ]
                      },
                      {
                        "test": [
                          0.734984458,
                          0.5288225112
                        ],
                        "passed_time": 9.136422926,
                        "iteration": 152,
                        "remaining_time": 110.2939421,
                        "learn": [
                          0.7183080919,
                          0.5452503258
                        ]
                      },
                      {
                        "test": [
                          0.735385541,
                          0.5287879374
                        ],
                        "passed_time": 9.193123483,
                        "iteration": 153,
                        "remaining_time": 110.1980906,
                        "learn": [
                          0.7183376936,
                          0.5451767345
                        ]
                      },
                      {
                        "test": [
                          0.7351259155,
                          0.5287727503
                        ],
                        "passed_time": 9.24709692,
                        "iteration": 154,
                        "remaining_time": 110.0702827,
                        "learn": [
                          0.7184233313,
                          0.5451184767
                        ]
                      },
                      {
                        "test": [
                          0.7348351814,
                          0.5287442807
                        ],
                        "passed_time": 9.321201009,
                        "iteration": 155,
                        "remaining_time": 110.181376,
                        "learn": [
                          0.7184317367,
                          0.545075699
                        ]
                      },
                      {
                        "test": [
                          0.7348515249,
                          0.5287291913
                        ],
                        "passed_time": 9.37963961,
                        "iteration": 156,
                        "remaining_time": 110.1062153,
                        "learn": [
                          0.7183606866,
                          0.5450370232
                        ]
                      },
                      {
                        "test": [
                          0.7348781222,
                          0.5287350512
                        ],
                        "passed_time": 9.437931175,
                        "iteration": 157,
                        "remaining_time": 110.0295521,
                        "learn": [
                          0.7183291285,
                          0.5449991288
                        ]
                      },
                      {
                        "test": [
                          0.7348146662,
                          0.5287369557
                        ],
                        "passed_time": 9.500567795,
                        "iteration": 158,
                        "remaining_time": 110.0034296,
                        "learn": [
                          0.7183957823,
                          0.5449489285
                        ]
                      },
                      {
                        "test": [
                          0.7349047141,
                          0.52875268
                        ],
                        "passed_time": 9.555842956,
                        "iteration": 159,
                        "remaining_time": 109.892194,
                        "learn": [
                          0.7184887662,
                          0.5449246096
                        ]
                      },
                      {
                        "test": [
                          0.7349047141,
                          0.5287089744
                        ],
                        "passed_time": 9.620865153,
                        "iteration": 160,
                        "remaining_time": 109.8929877,
                        "learn": [
                          0.7184859707,
                          0.5448704538
                        ]
                      },
                      {
                        "test": [
                          0.7351481426,
                          0.5286989148
                        ],
                        "passed_time": 9.676274449,
                        "iteration": 161,
                        "remaining_time": 109.7839039,
                        "learn": [
                          0.7185703166,
                          0.5448357824
                        ]
                      },
                      {
                        "test": [
                          0.7350213086,
                          0.528648861
                        ],
                        "passed_time": 9.736457393,
                        "iteration": 162,
                        "remaining_time": 109.7292775,
                        "learn": [
                          0.7187156781,
                          0.544767758
                        ]
                      },
                      {
                        "test": [
                          0.7348207571,
                          0.5286234678
                        ],
                        "passed_time": 9.791612941,
                        "iteration": 163,
                        "remaining_time": 109.618301,
                        "learn": [
                          0.7186313457,
                          0.5447373839
                        ]
                      },
                      {
                        "test": [
                          0.7348841873,
                          0.5286097457
                        ],
                        "passed_time": 9.849913727,
                        "iteration": 164,
                        "remaining_time": 109.5429799,
                        "learn": [
                          0.7186374305,
                          0.5446844977
                        ]
                      },
                      {
                        "test": [
                          0.734910768,
                          0.5286328438
                        ],
                        "passed_time": 9.904408785,
                        "iteration": 165,
                        "remaining_time": 109.4258175,
                        "learn": [
                          0.7187011667,
                          0.5446604231
                        ]
                      },
                      {
                        "test": [
                          0.7346938776,
                          0.528640071
                        ],
                        "passed_time": 9.959114651,
                        "iteration": 166,
                        "remaining_time": 109.3117195,
                        "learn": [
                          0.7187060655,
                          0.5446311721
                        ]
                      },
                      {
                        "test": [
                          0.7347409599,
                          0.5286269838
                        ],
                        "passed_time": 10.0186768,
                        "iteration": 167,
                        "remaining_time": 109.2512851,
                        "learn": [
                          0.7187427431,
                          0.5445721818
                        ]
                      },
                      {
                        "test": [
                          0.7348207571,
                          0.5286103317
                        ],
                        "passed_time": 10.08030844,
                        "iteration": 168,
                        "remaining_time": 109.2132826,
                        "learn": [
                          0.7187974644,
                          0.5445216397
                        ]
                      },
                      {
                        "test": [
                          0.734700015,
                          0.5285915799
                        ],
                        "passed_time": 10.13820689,
                        "iteration": 169,
                        "remaining_time": 109.1348153,
                        "learn": [
                          0.7188586636,
                          0.544492291
                        ]
                      },
                      {
                        "test": [
                          0.7349005062,
                          0.5285554923
                        ],
                        "passed_time": 10.19249835,
                        "iteration": 170,
                        "remaining_time": 109.0180086,
                        "learn": [
                          0.7189249579,
                          0.5444536153
                        ]
                      },
                      {
                        "test": [
                          0.7353059178,
                          0.52845265
                        ],
                        "passed_time": 10.25242786,
                        "iteration": 171,
                        "remaining_time": 108.9618495,
                        "learn": [
                          0.7189084702,
                          0.5443386135
                        ]
                      },
                      {
                        "test": [
                          0.7350315916,
                          0.528476627
                        ],
                        "passed_time": 10.30581137,
                        "iteration": 172,
                        "remaining_time": 108.8365166,
                        "learn": [
                          0.7189767278,
                          0.5442941755
                        ]
                      },
                      {
                        "test": [
                          0.7351259155,
                          0.5284678859
                        ],
                        "passed_time": 10.38064825,
                        "iteration": 173,
                        "remaining_time": 108.9371477,
                        "learn": [
                          0.7190667144,
                          0.5442575019
                        ]
                      },
                      {
                        "test": [
                          0.734861787,
                          0.5284606586
                        ],
                        "passed_time": 10.44817488,
                        "iteration": 174,
                        "remaining_time": 108.959538,
                        "learn": [
                          0.719091394,
                          0.5441933842
                        ]
                      },
                      {
                        "test": [
                          0.73513622,
                          0.5284493293
                        ],
                        "passed_time": 10.49980678,
                        "iteration": 175,
                        "remaining_time": 108.8161793,
                        "learn": [
                          0.7191218557,
                          0.544171507
                        ]
                      },
                      {
                        "test": [
                          0.7354314109,
                          0.528327784
                        ],
                        "passed_time": 10.55545114,
                        "iteration": 176,
                        "remaining_time": 108.7151832,
                        "learn": [
                          0.7190751735,
                          0.5440113836
                        ]
                      },
                      {
                        "test": [
                          0.735515614,
                          0.5282573179
                        ],
                        "passed_time": 10.60973623,
                        "iteration": 177,
                        "remaining_time": 108.6007832,
                        "learn": [
                          0.7191073289,
                          0.5439317858
                        ]
                      },
                      {
                        "test": [
                          0.7351877887,
                          0.5282560483
                        ],
                        "passed_time": 10.68117315,
                        "iteration": 178,
                        "remaining_time": 108.6615436,
                        "learn": [
                          0.7191775663,
                          0.5438668867
                        ]
                      },
                      {
                        "test": [
                          0.735489054,
                          0.528191491
                        ],
                        "passed_time": 10.73627036,
                        "iteration": 179,
                        "remaining_time": 108.5556226,
                        "learn": [
                          0.7191609287,
                          0.5437890469
                        ]
                      },
                      {
                        "test": [
                          0.735489054,
                          0.5281966673
                        ],
                        "passed_time": 10.7919215,
                        "iteration": 180,
                        "remaining_time": 108.4558299,
                        "learn": [
                          0.7192373589,
                          0.5437479295
                        ]
                      },
                      {
                        "test": [
                          0.735620636,
                          0.5281561359
                        ],
                        "passed_time": 10.84602009,
                        "iteration": 181,
                        "remaining_time": 108.3410139,
                        "learn": [
                          0.7192956032,
                          0.5436614951
                        ]
                      },
                      {
                        "test": [
                          0.7356841471,
                          0.5281505201
                        ],
                        "passed_time": 10.89954802,
                        "iteration": 182,
                        "remaining_time": 108.2211954,
                        "learn": [
                          0.7194166044,
                          0.5436045069
                        ]
                      },
                      {
                        "test": [
                          0.7356945491,
                          0.5281544756
                        ],
                        "passed_time": 10.95640779,
                        "iteration": 183,
                        "remaining_time": 108.1349812,
                        "learn": [
                          0.719426086,
                          0.543568517
                        ]
                      },
                      {
                        "test": [
                          0.735403477,
                          0.5281096957
                        ],
                        "passed_time": 11.01360507,
                        "iteration": 184,
                        "remaining_time": 108.0523957,
                        "learn": [
                          0.7195631708,
                          0.5435192445
                        ]
                      },
                      {
                        "test": [
                          0.735678392,
                          0.5281108677
                        ],
                        "passed_time": 11.07893753,
                        "iteration": 185,
                        "remaining_time": 108.049423,
                        "learn": [
                          0.7195837596,
                          0.5434724625
                        ]
                      },
                      {
                        "test": [
                          0.7355882796,
                          0.5280870861
                        ],
                        "passed_time": 11.13352839,
                        "iteration": 186,
                        "remaining_time": 107.9416416,
                        "learn": [
                          0.7195907993,
                          0.5434447742
                        ]
                      },
                      {
                        "test": [
                          0.7356887973,
                          0.5281067658
                        ],
                        "passed_time": 11.18552522,
                        "iteration": 187,
                        "remaining_time": 107.809424,
                        "learn": [
                          0.7196550837,
                          0.5434015081
                        ]
                      },
                      {
                        "test": [
                          0.735789315,
                          0.5281040799
                        ],
                        "passed_time": 11.24010445,
                        "iteration": 188,
                        "remaining_time": 107.7027998,
                        "learn": [
                          0.7197168426,
                          0.5433777264
                        ]
                      },
                      {
                        "test": [
                          0.7356460533,
                          0.5280027514
                        ],
                        "passed_time": 11.30079498,
                        "iteration": 189,
                        "remaining_time": 107.6549417,
                        "learn": [
                          0.7197700471,
                          0.5432201912
                        ]
                      },
                      {
                        "test": [
                          0.7356726322,
                          0.5279816556
                        ],
                        "passed_time": 11.36587629,
                        "iteration": 190,
                        "remaining_time": 107.6485351,
                        "learn": [
                          0.7198634307,
                          0.5431778529
                        ]
                      },
                      {
                        "test": [
                          0.735619469,
                          0.5278961978
                        ],
                        "passed_time": 11.45417079,
                        "iteration": 191,
                        "remaining_time": 107.8601083,
                        "learn": [
                          0.7199241868,
                          0.5430891722
                        ]
                      },
                      {
                        "test": [
                          0.7356402776,
                          0.5278983465
                        ],
                        "passed_time": 11.51035007,
                        "iteration": 192,
                        "remaining_time": 107.767889,
                        "learn": [
                          0.7198724868,
                          0.5430332096
                        ]
                      },
                      {
                        "test": [
                          0.7356402776,
                          0.5278211415
                        ],
                        "passed_time": 11.57033409,
                        "iteration": 193,
                        "remaining_time": 107.7114607,
                        "learn": [
                          0.7198518565,
                          0.5429389619
                        ]
                      },
                      {
                        "test": [
                          0.7356876949,
                          0.5277910604
                        ],
                        "passed_time": 11.62808016,
                        "iteration": 194,
                        "remaining_time": 107.6342805,
                        "learn": [
                          0.7198528581,
                          0.5428904707
                        ]
                      },
                      {
                        "test": [
                          0.7358841571,
                          0.5277772406
                        ],
                        "passed_time": 11.687298,
                        "iteration": 195,
                        "remaining_time": 107.5708449,
                        "learn": [
                          0.7200075322,
                          0.5428502811
                        ]
                      },
                      {
                        "test": [
                          0.7357940259,
                          0.5277650324
                        ],
                        "passed_time": 11.74437718,
                        "iteration": 196,
                        "remaining_time": 107.4878785,
                        "learn": [
                          0.7200085367,
                          0.5428195652
                        ]
                      },
                      {
                        "test": [
                          0.7355396841,
                          0.5277601002
                        ],
                        "passed_time": 11.79847548,
                        "iteration": 197,
                        "remaining_time": 107.3780445,
                        "learn": [
                          0.7200215947,
                          0.5428039874
                        ]
                      },
                      {
                        "test": [
                          0.7355189059,
                          0.5277287983
                        ],
                        "passed_time": 11.85677538,
                        "iteration": 198,
                        "remaining_time": 107.3067962,
                        "learn": [
                          0.7200356547,
                          0.5427582797
                        ]
                      },
                      {
                        "test": [
                          0.7355824828,
                          0.5277340234
                        ],
                        "passed_time": 11.91233488,
                        "iteration": 199,
                        "remaining_time": 107.2110139,
                        "learn": [
                          0.7199743902,
                          0.5427392837
                        ]
                      },
                      {
                        "test": [
                          0.7355558908,
                          0.5277291889
                        ],
                        "passed_time": 11.96888909,
                        "iteration": 200,
                        "remaining_time": 107.1245347,
                        "learn": [
                          0.720120516,
                          0.5427197505
                        ]
                      },
                      {
                        "test": [
                          0.7354124748,
                          0.5277374417
                        ],
                        "passed_time": 12.02165259,
                        "iteration": 201,
                        "remaining_time": 107.0046107,
                        "learn": [
                          0.7200647859,
                          0.5427069074
                        ]
                      },
                      {
                        "test": [
                          0.7354494693,
                          0.5277415925
                        ],
                        "passed_time": 12.07710042,
                        "iteration": 202,
                        "remaining_time": 106.9091106,
                        "learn": [
                          0.7200220954,
                          0.5426846884
                        ]
                      },
                      {
                        "test": [
                          0.7354124748,
                          0.5276876809
                        ],
                        "passed_time": 12.13350032,
                        "iteration": 203,
                        "remaining_time": 106.8223851,
                        "learn": [
                          0.720014063,
                          0.5425819437
                        ]
                      },
                      {
                        "test": [
                          0.7353592272,
                          0.5277097046
                        ],
                        "passed_time": 12.18831995,
                        "iteration": 204,
                        "remaining_time": 106.7221186,
                        "learn": [
                          0.7201105042,
                          0.542547077
                        ]
                      },
                      {
                        "test": [
                          0.7353858537,
                          0.527697008
                        ],
                        "passed_time": 12.24741253,
                        "iteration": 205,
                        "remaining_time": 106.6595053,
                        "learn": [
                          0.7201783024,
                          0.5425105499
                        ]
                      },
                      {
                        "test": [
                          0.7354124748,
                          0.527692906
                        ],
                        "passed_time": 12.30330816,
                        "iteration": 206,
                        "remaining_time": 106.5692345,
                        "learn": [
                          0.7201948916,
                          0.5424893075
                        ]
                      },
                      {
                        "test": [
                          0.7353222317,
                          0.5276334762
                        ],
                        "passed_time": 12.37027759,
                        "iteration": 207,
                        "remaining_time": 106.5746992,
                        "learn": [
                          0.7202501287,
                          0.542391495
                        ]
                      },
                      {
                        "test": [
                          0.7353592272,
                          0.5276397757
                        ],
                        "passed_time": 12.46432746,
                        "iteration": 208,
                        "remaining_time": 106.8115334,
                        "learn": [
                          0.7203390363,
                          0.5423571166
                        ]
                      },
                      {
                        "test": [
                          0.7352423129,
                          0.5276532536
                        ],
                        "passed_time": 12.51931283,
                        "iteration": 209,
                        "remaining_time": 106.7122379,
                        "learn": [
                          0.7202867888,
                          0.542321322
                        ]
                      },
                      {
                        "test": [
                          0.7353059581,
                          0.527640557
                        ],
                        "passed_time": 12.57410206,
                        "iteration": 210,
                        "remaining_time": 106.6116995,
                        "learn": [
                          0.7203214263,
                          0.5422978333
                        ]
                      },
                      {
                        "test": [
                          0.7352955975,
                          0.5276374805
                        ],
                        "passed_time": 12.63096474,
                        "iteration": 211,
                        "remaining_time": 106.52908,
                        "learn": [
                          0.7202958331,
                          0.5422715611
                        ]
                      },
                      {
                        "test": [
                          0.7353325954,
                          0.5276359667
                        ],
                        "passed_time": 12.68695062,
                        "iteration": 212,
                        "remaining_time": 106.4393463,
                        "learn": [
                          0.7202084576,
                          0.5422433845
                        ]
                      },
                      {
                        "test": [
                          0.7354968553,
                          0.5276087667
                        ],
                        "passed_time": 12.74792385,
                        "iteration": 213,
                        "remaining_time": 106.3915514,
                        "learn": [
                          0.7202978066,
                          0.5422091037
                        ]
                      },
                      {
                        "test": [
                          0.7353325954,
                          0.5275578827
                        ],
                        "passed_time": 12.80544832,
                        "iteration": 214,
                        "remaining_time": 106.3150012,
                        "learn": [
                          0.7203329191,
                          0.5421447418
                        ]
                      },
                      {
                        "test": [
                          0.7352793156,
                          0.5275444537
                        ],
                        "passed_time": 12.85685457,
                        "iteration": 215,
                        "remaining_time": 106.1880951,
                        "learn": [
                          0.7203952118,
                          0.5421136352
                        ]
                      },
                      {
                        "test": [
                          0.7350040258,
                          0.5275516809
                        ],
                        "passed_time": 12.90931038,
                        "iteration": 216,
                        "remaining_time": 106.0705088,
                        "learn": [
                          0.7204880835,
                          0.5420777918
                        ]
                      },
                      {
                        "test": [
                          0.7351683188,
                          0.5274099187
                        ],
                        "passed_time": 12.9728194,
                        "iteration": 217,
                        "remaining_time": 106.0438723,
                        "learn": [
                          0.7205078137,
                          0.5419465775
                        ]
                      },
                      {
                        "test": [
                          0.7351416637,
                          0.5274013241
                        ],
                        "passed_time": 13.02796841,
                        "iteration": 218,
                        "remaining_time": 105.9489121,
                        "learn": [
                          0.7204967384,
                          0.5419260676
                        ]
                      },
                      {
                        "test": [
                          0.7351416637,
                          0.5273944875
                        ],
                        "passed_time": 13.08051039,
                        "iteration": 219,
                        "remaining_time": 105.8332204,
                        "learn": [
                          0.7205419762,
                          0.5418846572
                        ]
                      },
                      {
                        "test": [
                          0.7351949686,
                          0.5273773471
                        ],
                        "passed_time": 13.13637717,
                        "iteration": 220,
                        "remaining_time": 105.7448642,
                        "learn": [
                          0.720642893,
                          0.5418515484
                        ]
                      },
                      {
                        "test": [
                          0.7352586033,
                          0.5273855022
                        ],
                        "passed_time": 13.19457572,
                        "iteration": 221,
                        "remaining_time": 105.6754758,
                        "learn": [
                          0.7206364356,
                          0.5418203441
                        ]
                      },
                      {
                        "test": [
                          0.7351313274,
                          0.5273713406
                        ],
                        "passed_time": 13.25277949,
                        "iteration": 222,
                        "remaining_time": 105.6062294,
                        "learn": [
                          0.7206555524,
                          0.5417941208
                        ]
                      },
                      {
                        "test": [
                          0.7350470346,
                          0.5273855022
                        ],
                        "passed_time": 13.30678202,
                        "iteration": 223,
                        "remaining_time": 105.5037717,
                        "learn": [
                          0.7206811247,
                          0.5417403557
                        ]
                      },
                      {
                        "test": [
                          0.7351949686,
                          0.5273751985
                        ],
                        "passed_time": 13.36101389,
                        "iteration": 224,
                        "remaining_time": 105.4035541,
                        "learn": [
                          0.7208297755,
                          0.5417154997
                        ]
                      },
                      {
                        "test": [
                          0.7351476432,
                          0.5273170872
                        ],
                        "passed_time": 13.41619929,
                        "iteration": 225,
                        "remaining_time": 105.3112281,
                        "learn": [
                          0.7208785413,
                          0.5416410293
                        ]
                      },
                      {
                        "test": [
                          0.7353488606,
                          0.5272995073
                        ],
                        "passed_time": 13.49980887,
                        "iteration": 226,
                        "remaining_time": 105.4412384,
                        "learn": [
                          0.7211155128,
                          0.5416115342
                        ]
                      },
                      {
                        "test": [
                          0.7353015139,
                          0.5273023396
                        ],
                        "passed_time": 13.55353383,
                        "iteration": 227,
                        "remaining_time": 105.3371138,
                        "learn": [
                          0.7211486546,
                          0.5415700261
                        ]
                      },
                      {
                        "test": [
                          0.7355130785,
                          0.5271813314
                        ],
                        "passed_time": 13.61057611,
                        "iteration": 228,
                        "remaining_time": 105.2590843,
                        "learn": [
                          0.7211768473,
                          0.5414332449
                        ]
                      },
                      {
                        "test": [
                          0.7352586033,
                          0.5271781573
                        ],
                        "passed_time": 13.66372204,
                        "iteration": 229,
                        "remaining_time": 105.1512522,
                        "learn": [
                          0.7211371242,
                          0.5414018941
                        ]
                      },
                      {
                        "test": [
                          0.7354332293,
                          0.5271580381
                        ],
                        "passed_time": 13.71891342,
                        "iteration": 230,
                        "remaining_time": 105.0595577,
                        "learn": [
                          0.7211171388,
                          0.5413689806
                        ]
                      },
                      {
                        "test": [
                          0.7353163219,
                          0.5271789386
                        ],
                        "passed_time": 13.77277117,
                        "iteration": 231,
                        "remaining_time": 104.9580148,
                        "learn": [
                          0.7210664791,
                          0.5413455408
                        ]
                      },
                      {
                        "test": [
                          0.7351416637,
                          0.5271779131
                        ],
                        "passed_time": 13.82889578,
                        "iteration": 232,
                        "remaining_time": 104.8740723,
                        "learn": [
                          0.7211142369,
                          0.5413107229
                        ]
                      },
                      {
                        "test": [
                          0.7351313274,
                          0.5271844079
                        ],
                        "passed_time": 13.88404561,
                        "iteration": 233,
                        "remaining_time": 104.7830109,
                        "learn": [
                          0.7210761318,
                          0.5412927523
                        ]
                      },
                      {
                        "test": [
                          0.7351269801,
                          0.527115358
                        ],
                        "passed_time": 13.93888274,
                        "iteration": 234,
                        "remaining_time": 104.6899065,
                        "learn": [
                          0.7212239927,
                          0.5411645657
                        ]
                      },
                      {
                        "test": [
                          0.7351166533,
                          0.527061251
                        ],
                        "passed_time": 13.99139737,
                        "iteration": 235,
                        "remaining_time": 104.5797668,
                        "learn": [
                          0.7213812588,
                          0.5410843819
                        ]
                      },
                      {
                        "test": [
                          0.7349524815,
                          0.5269783814
                        ],
                        "passed_time": 14.04475605,
                        "iteration": 236,
                        "remaining_time": 104.4763921,
                        "learn": [
                          0.7211830084,
                          0.5409970685
                        ]
                      },
                      {
                        "test": [
                          0.7349300594,
                          0.5268738788
                        ],
                        "passed_time": 14.10282212,
                        "iteration": 237,
                        "remaining_time": 104.4082881,
                        "learn": [
                          0.7212859475,
                          0.5408882685
                        ]
                      },
                      {
                        "test": [
                          0.7352172164,
                          0.5268793481
                        ],
                        "passed_time": 14.15716197,
                        "iteration": 238,
                        "remaining_time": 104.3128127,
                        "learn": [
                          0.7214335495,
                          0.5408356754
                        ]
                      },
                      {
                        "test": [
                          0.7353340371,
                          0.5268798364
                        ],
                        "passed_time": 14.2136152,
                        "iteration": 239,
                        "remaining_time": 104.2331781,
                        "learn": [
                          0.7214848116,
                          0.5408143353
                        ]
                      },
                      {
                        "test": [
                          0.7349361231,
                          0.5267875909
                        ],
                        "passed_time": 14.26994264,
                        "iteration": 240,
                        "remaining_time": 104.1528179,
                        "learn": [
                          0.7216223004,
                          0.5407352747
                        ]
                      },
                      {
                        "test": [
                          0.7349197565,
                          0.5267009611
                        ],
                        "passed_time": 14.32947559,
                        "iteration": 241,
                        "remaining_time": 104.0959425,
                        "learn": [
                          0.7216967217,
                          0.54061998
                        ]
                      },
                      {
                        "test": [
                          0.7349937107,
                          0.5267072606
                        ],
                        "passed_time": 14.38693864,
                        "iteration": 242,
                        "remaining_time": 104.024079,
                        "learn": [
                          0.7217880882,
                          0.5405840877
                        ]
                      },
                      {
                        "test": [
                          0.7348930818,
                          0.5267243521
                        ],
                        "passed_time": 14.44315832,
                        "iteration": 243,
                        "remaining_time": 103.9433853,
                        "learn": [
                          0.7216817103,
                          0.5405535671
                        ]
                      },
                      {
                        "test": [
                          0.7348664017,
                          0.526713267
                        ],
                        "passed_time": 14.57361098,
                        "iteration": 244,
                        "remaining_time": 104.3946419,
                        "learn": [
                          0.7216963367,
                          0.5405204095
                        ]
                      },
                      {
                        "test": [
                          0.7348458172,
                          0.5266427522
                        ],
                        "passed_time": 14.62821668,
                        "iteration": 245,
                        "remaining_time": 104.3003742,
                        "learn": [
                          0.721676531,
                          0.5404176648
                        ]
                      },
                      {
                        "test": [
                          0.7350203753,
                          0.5265918682
                        ],
                        "passed_time": 14.68467259,
                        "iteration": 246,
                        "remaining_time": 104.2195589,
                        "learn": [
                          0.7217135362,
                          0.5403348929
                        ]
                      },
                      {
                        "test": [
                          0.7350840125,
                          0.5264962043
                        ],
                        "passed_time": 14.74342372,
                        "iteration": 247,
                        "remaining_time": 104.1551547,
                        "learn": [
                          0.7218473628,
                          0.5402281927
                        ]
                      },
                      {
                        "test": [
                          0.7350736884,
                          0.5264473713
                        ],
                        "passed_time": 14.79748386,
                        "iteration": 248,
                        "remaining_time": 104.0578082,
                        "learn": [
                          0.7217975271,
                          0.5401894193
                        ]
                      },
                      {
                        "test": [
                          0.7350410145,
                          0.5264447343
                        ],
                        "passed_time": 14.8564628,
                        "iteration": 249,
                        "remaining_time": 103.9952396,
                        "learn": [
                          0.7218714302,
                          0.5401641238
                        ]
                      },
                      {
                        "test": [
                          0.7351150033,
                          0.5263873067
                        ],
                        "passed_time": 14.91364895,
                        "iteration": 250,
                        "remaining_time": 103.9202072,
                        "learn": [
                          0.7218291512,
                          0.5400754431
                        ]
                      },
                      {
                        "test": [
                          0.7349239907,
                          0.5263966826
                        ],
                        "passed_time": 14.96943897,
                        "iteration": 251,
                        "remaining_time": 103.8356322,
                        "learn": [
                          0.7217353089,
                          0.5400519056
                        ]
                      },
                      {
                        "test": [
                          0.7348706072,
                          0.526372022
                        ],
                        "passed_time": 15.02875282,
                        "iteration": 252,
                        "remaining_time": 103.7756173,
                        "learn": [
                          0.7219058264,
                          0.5399795351
                        ]
                      },
                      {
                        "test": [
                          0.7349446123,
                          0.5263620112
                        ],
                        "passed_time": 15.08480228,
                        "iteration": 253,
                        "remaining_time": 103.6931684,
                        "learn": [
                          0.721902334,
                          0.5399569742
                        ]
                      },
                      {
                        "test": [
                          0.7348603071,
                          0.526320552
                        ],
                        "passed_time": 15.14208882,
                        "iteration": 254,
                        "remaining_time": 103.6193921,
                        "learn": [
                          0.7217959184,
                          0.5399116083
                        ]
                      },
                      {
                        "test": [
                          0.734987668,
                          0.5262160982
                        ],
                        "passed_time": 15.20437347,
                        "iteration": 255,
                        "remaining_time": 103.5797943,
                        "learn": [
                          0.7217599367,
                          0.5398232694
                        ]
                      },
                      {
                        "test": [
                          0.7350883374,
                          0.5262115079
                        ],
                        "passed_time": 15.27518919,
                        "iteration": 256,
                        "remaining_time": 103.5978785,
                        "learn": [
                          0.7218293495,
                          0.5397797104
                        ]
                      },
                      {
                        "test": [
                          0.7348766985,
                          0.5262344106
                        ],
                        "passed_time": 15.33016734,
                        "iteration": 257,
                        "remaining_time": 103.5083392,
                        "learn": [
                          0.7218649518,
                          0.5397558311
                        ]
                      },
                      {
                        "test": [
                          0.734712366,
                          0.5262304551
                        ],
                        "passed_time": 15.38416068,
                        "iteration": 258,
                        "remaining_time": 103.4124469,
                        "learn": [
                          0.7220153121,
                          0.539707584
                        ]
                      },
                      {
                        "test": [
                          0.7350410145,
                          0.5261802547
                        ],
                        "passed_time": 15.43993647,
                        "iteration": 259,
                        "remaining_time": 103.3288056,
                        "learn": [
                          0.7219636587,
                          0.5396499611
                        ]
                      },
                      {
                        "test": [
                          0.7352363691,
                          0.5261759086
                        ],
                        "passed_time": 15.50538698,
                        "iteration": 260,
                        "remaining_time": 103.3098389,
                        "learn": [
                          0.7220100503,
                          0.5396283281
                        ]
                      },
                      {
                        "test": [
                          0.7357074498,
                          0.5259808696
                        ],
                        "passed_time": 15.59947758,
                        "iteration": 261,
                        "remaining_time": 103.480504,
                        "learn": [
                          0.7222522262,
                          0.5394024266
                        ]
                      },
                      {
                        "test": [
                          0.7358557106,
                          0.5259431705
                        ],
                        "passed_time": 15.65467408,
                        "iteration": 262,
                        "remaining_time": 103.3922771,
                        "learn": [
                          0.7223052482,
                          0.5393538377
                        ]
                      },
                      {
                        "test": [
                          0.7359032502,
                          0.525935699
                        ],
                        "passed_time": 15.70635964,
                        "iteration": 263,
                        "remaining_time": 103.2812134,
                        "learn": [
                          0.7223104893,
                          0.5393272726
                        ]
                      },
                      {
                        "test": [
                          0.7358290926,
                          0.5259266161
                        ],
                        "passed_time": 15.76269645,
                        "iteration": 264,
                        "remaining_time": 103.2010503,
                        "learn": [
                          0.7223893344,
                          0.5392822485
                        ]
                      },
                      {
                        "test": [
                          0.7357862903,
                          0.5259126499
                        ],
                        "passed_time": 15.81652596,
                        "iteration": 265,
                        "remaining_time": 103.1047219,
                        "learn": [
                          0.7224448268,
                          0.5392446471
                        ]
                      },
                      {
                        "test": [
                          0.7356959218,
                          0.5259177285
                        ],
                        "passed_time": 15.87054148,
                        "iteration": 266,
                        "remaining_time": 103.009919,
                        "learn": [
                          0.7224183195,
                          0.5392384942
                        ]
                      },
                      {
                        "test": [
                          0.7357225667,
                          0.5257850492
                        ],
                        "passed_time": 15.92901652,
                        "iteration": 267,
                        "remaining_time": 102.9442411,
                        "learn": [
                          0.722382023,
                          0.5390494128
                        ]
                      },
                      {
                        "test": [
                          0.7359032502,
                          0.5257813379
                        ],
                        "passed_time": 15.98370202,
                        "iteration": 268,
                        "remaining_time": 102.8542312,
                        "learn": [
                          0.7226167825,
                          0.5390228964
                        ]
                      },
                      {
                        "test": [
                          0.7358395485,
                          0.5257833401
                        ],
                        "passed_time": 16.04135507,
                        "iteration": 269,
                        "remaining_time": 102.7834973,
                        "learn": [
                          0.7226199447,
                          0.5389826092
                        ]
                      },
                      {
                        "test": [
                          0.7358927852,
                          0.5257040352
                        ],
                        "passed_time": 16.09395955,
                        "iteration": 270,
                        "remaining_time": 102.6806497,
                        "learn": [
                          0.7225424814,
                          0.5388837712
                        ]
                      },
                      {
                        "test": [
                          0.7357121258,
                          0.5256984683
                        ],
                        "passed_time": 16.15021249,
                        "iteration": 271,
                        "remaining_time": 102.6013499,
                        "learn": [
                          0.7224919145,
                          0.5388577432
                        ]
                      },
                      {
                        "test": [
                          0.7356426158,
                          0.5257015448
                        ],
                        "passed_time": 16.20240428,
                        "iteration": 272,
                        "remaining_time": 102.4965282,
                        "learn": [
                          0.722612977,
                          0.5388398215
                        ]
                      },
                      {
                        "test": [
                          0.7355788624,
                          0.525690948
                        ],
                        "passed_time": 16.25980457,
                        "iteration": 273,
                        "remaining_time": 102.4249003,
                        "learn": [
                          0.7226782047,
                          0.5388215579
                        ]
                      },
                      {
                        "test": [
                          0.7359556228,
                          0.525672831
                        ],
                        "passed_time": 16.31450215,
                        "iteration": 274,
                        "remaining_time": 102.3364226,
                        "learn": [
                          0.7226286999,
                          0.5387757526
                        ]
                      },
                      {
                        "test": [
                          0.7357701034,
                          0.5256768353
                        ],
                        "passed_time": 16.36740542,
                        "iteration": 275,
                        "remaining_time": 102.2369817,
                        "learn": [
                          0.7228379982,
                          0.5387609562
                        ]
                      },
                      {
                        "test": [
                          0.7356159548,
                          0.5256844532
                        ],
                        "passed_time": 16.42044268,
                        "iteration": 276,
                        "remaining_time": 102.1387103,
                        "learn": [
                          0.7227591577,
                          0.5387274567
                        ]
                      },
                      {
                        "test": [
                          0.7355892884,
                          0.5256245839
                        ],
                        "passed_time": 16.47897981,
                        "iteration": 277,
                        "remaining_time": 102.0748318,
                        "learn": [
                          0.7229737368,
                          0.5386451731
                        ]
                      },
                      {
                        "test": [
                          0.7356426158,
                          0.5256355714
                        ],
                        "passed_time": 16.54076849,
                        "iteration": 278,
                        "remaining_time": 102.0310487,
                        "learn": [
                          0.7229745007,
                          0.5386204636
                        ]
                      },
                      {
                        "test": [
                          0.7356159548,
                          0.5256604762
                        ],
                        "passed_time": 16.62242993,
                        "iteration": 279,
                        "remaining_time": 102.1092124,
                        "learn": [
                          0.7230801113,
                          0.5386021024
                        ]
                      },
                      {
                        "test": [
                          0.7355151026,
                          0.5256533954
                        ],
                        "passed_time": 16.67952077,
                        "iteration": 280,
                        "remaining_time": 102.0359296,
                        "learn": [
                          0.7229416567,
                          0.5385763186
                        ]
                      },
                      {
                        "test": [
                          0.7359983869,
                          0.5256283929
                        ],
                        "passed_time": 16.73946849,
                        "iteration": 281,
                        "remaining_time": 101.9801662,
                        "learn": [
                          0.7229702572,
                          0.5385013599
                        ]
                      },
                      {
                        "test": [
                          0.7359983869,
                          0.525623412
                        ],
                        "passed_time": 16.79067918,
                        "iteration": 282,
                        "remaining_time": 101.8713645,
                        "learn": [
                          0.7229691965,
                          0.538482315
                        ]
                      },
                      {
                        "test": [
                          0.736062103,
                          0.5255866407
                        ],
                        "passed_time": 16.8518894,
                        "iteration": 283,
                        "remaining_time": 101.823388,
                        "learn": [
                          0.7232164161,
                          0.5384093097
                        ]
                      },
                      {
                        "test": [
                          0.7358129221,
                          0.5255824411
                        ],
                        "passed_time": 16.90918916,
                        "iteration": 284,
                        "remaining_time": 101.7517874,
                        "learn": [
                          0.7232850909,
                          0.5383855768
                        ]
                      },
                      {
                        "test": [
                          0.7359508089,
                          0.5255837595
                        ],
                        "passed_time": 16.96808116,
                        "iteration": 285,
                        "remaining_time": 101.6898291,
                        "learn": [
                          0.7232826824,
                          0.5383602325
                        ]
                      },
                      {
                        "test": [
                          0.7361684974,
                          0.525548258
                        ],
                        "passed_time": 17.02596589,
                        "iteration": 286,
                        "remaining_time": 101.62188,
                        "learn": [
                          0.7232343524,
                          0.5382939173
                        ]
                      },
                      {
                        "test": [
                          0.7362692734,
                          0.5255355614
                        ],
                        "passed_time": 17.08102831,
                        "iteration": 287,
                        "remaining_time": 101.5372238,
                        "learn": [
                          0.7233326637,
                          0.538236099
                        ]
                      },
                      {
                        "test": [
                          0.7366246851,
                          0.5255251111
                        ],
                        "passed_time": 17.14176509,
                        "iteration": 288,
                        "remaining_time": 101.486367,
                        "learn": [
                          0.7233794117,
                          0.5381938584
                        ]
                      },
                      {
                        "test": [
                          0.7367625573,
                          0.5255189581
                        ],
                        "passed_time": 17.20253113,
                        "iteration": 289,
                        "remaining_time": 101.4356146,
                        "learn": [
                          0.7232503829,
                          0.5381439511
                        ]
                      },
                      {
                        "test": [
                          0.7367148542,
                          0.525514612
                        ],
                        "passed_time": 17.25865989,
                        "iteration": 290,
                        "remaining_time": 101.3575593,
                        "learn": [
                          0.7233908988,
                          0.538105373
                        ]
                      },
                      {
                        "test": [
                          0.7365239295,
                          0.5254956648
                        ],
                        "passed_time": 17.31448647,
                        "iteration": 291,
                        "remaining_time": 101.2778866,
                        "learn": [
                          0.7233986452,
                          0.5380681135
                        ]
                      },
                      {
                        "test": [
                          0.736332947,
                          0.5255259901
                        ],
                        "passed_time": 17.36974762,
                        "iteration": 292,
                        "remaining_time": 101.1950825,
                        "learn": [
                          0.7236249043,
                          0.5380222104
                        ]
                      },
                      {
                        "test": [
                          0.7363063744,
                          0.5254895607
                        ],
                        "passed_time": 17.42441757,
                        "iteration": 293,
                        "remaining_time": 101.1090353,
                        "learn": [
                          0.7236000477,
                          0.5379847067
                        ]
                      },
                      {
                        "test": [
                          0.7362797964,
                          0.52548917
                        ],
                        "passed_time": 17.48460481,
                        "iteration": 294,
                        "remaining_time": 101.0550888,
                        "learn": [
                          0.7236149993,
                          0.5379700568
                        ]
                      },
                      {
                        "test": [
                          0.7362266243,
                          0.5255009876
                        ],
                        "passed_time": 17.55229282,
                        "iteration": 295,
                        "remaining_time": 101.0442803,
                        "learn": [
                          0.7236136743,
                          0.5379505724
                        ]
                      },
                      {
                        "test": [
                          0.7361790052,
                          0.5255027944
                        ],
                        "passed_time": 17.61609573,
                        "iteration": 296,
                        "remaining_time": 101.0108115,
                        "learn": [
                          0.7236970127,
                          0.5379231283
                        ]
                      },
                      {
                        "test": [
                          0.7362637363,
                          0.5254890723
                        ],
                        "passed_time": 17.68825797,
                        "iteration": 297,
                        "remaining_time": 101.0248828,
                        "learn": [
                          0.7237576343,
                          0.5378988094
                        ]
                      },
                      {
                        "test": [
                          0.736253213,
                          0.5255000109
                        ],
                        "passed_time": 17.75096566,
                        "iteration": 298,
                        "remaining_time": 100.9845906,
                        "learn": [
                          0.72378035,
                          0.5378599383
                        ]
                      },
                      {
                        "test": [
                          0.7360572321,
                          0.5253900878
                        ],
                        "passed_time": 17.80412761,
                        "iteration": 299,
                        "remaining_time": 100.8900565,
                        "learn": [
                          0.7238934277,
                          0.5377231571
                        ]
                      },
                      {
                        "test": [
                          0.7362903226,
                          0.5253720685
                        ],
                        "passed_time": 17.86155113,
                        "iteration": 300,
                        "remaining_time": 100.8198517,
                        "learn": [
                          0.7239336939,
                          0.5376774494
                        ]
                      },
                      {
                        "test": [
                          0.7363645529,
                          0.5253458451
                        ],
                        "passed_time": 17.91916839,
                        "iteration": 301,
                        "remaining_time": 100.750821,
                        "learn": [
                          0.7239724179,
                          0.5376533747
                        ]
                      },
                      {
                        "test": [
                          0.7363645529,
                          0.5253559047
                        ],
                        "passed_time": 17.97700192,
                        "iteration": 302,
                        "remaining_time": 100.6830768,
                        "learn": [
                          0.7239373882,
                          0.5376415083
                        ]
                      },
                      {
                        "test": [
                          0.7361629196,
                          0.5253333439
                        ],
                        "passed_time": 18.02973797,
                        "iteration": 303,
                        "remaining_time": 100.5869592,
                        "learn": [
                          0.7240399275,
                          0.5375925776
                        ]
                      },
                      {
                        "test": [
                          0.7361573374,
                          0.525346773
                        ],
                        "passed_time": 18.08737239,
                        "iteration": 304,
                        "remaining_time": 100.5183482,
                        "learn": [
                          0.7240459955,
                          0.5375732397
                        ]
                      },
                      {
                        "test": [
                          0.7364016736,
                          0.5253518516
                        ],
                        "passed_time": 18.14430015,
                        "iteration": 305,
                        "remaining_time": 100.4458969,
                        "learn": [
                          0.7240721688,
                          0.5375548297
                        ]
                      },
                      {
                        "test": [
                          0.7364387981,
                          0.5253414013
                        ],
                        "passed_time": 18.19923419,
                        "iteration": 306,
                        "remaining_time": 100.3625521,
                        "learn": [
                          0.7240933618,
                          0.5375095615
                        ]
                      },
                      {
                        "test": [
                          0.7364759264,
                          0.5253389108
                        ],
                        "passed_time": 18.2530985,
                        "iteration": 307,
                        "remaining_time": 100.2735151,
                        "learn": [
                          0.724118459,
                          0.5374943744
                        ]
                      },
                      {
                        "test": [
                          0.7366935484,
                          0.5252918358
                        ],
                        "passed_time": 18.3109336,
                        "iteration": 308,
                        "remaining_time": 100.206436,
                        "learn": [
                          0.7241357676,
                          0.5374186344
                        ]
                      },
                      {
                        "test": [
                          0.7366564185,
                          0.5253100505
                        ],
                        "passed_time": 18.36747523,
                        "iteration": 309,
                        "remaining_time": 100.132365,
                        "learn": [
                          0.7242164706,
                          0.5373984664
                        ]
                      },
                      {
                        "test": [
                          0.7368580213,
                          0.5252817762
                        ],
                        "passed_time": 18.42240447,
                        "iteration": 310,
                        "remaining_time": 100.04965,
                        "learn": [
                          0.7242642906,
                          0.5373457756
                        ]
                      },
                      {
                        "test": [
                          0.736730682,
                          0.5252828017
                        ],
                        "passed_time": 18.47420084,
                        "iteration": 311,
                        "remaining_time": 99.9501635,
                        "learn": [
                          0.7242526168,
                          0.5373263889
                        ]
                      },
                      {
                        "test": [
                          0.7365024953,
                          0.5252765023
                        ],
                        "passed_time": 18.53913728,
                        "iteration": 312,
                        "remaining_time": 99.9218038,
                        "learn": [
                          0.7243322623,
                          0.5372942568
                        ]
                      },
                      {
                        "test": [
                          0.7369694526,
                          0.5252785044
                        ],
                        "passed_time": 18.59432762,
                        "iteration": 313,
                        "remaining_time": 99.84088013,
                        "learn": [
                          0.7244393957,
                          0.5372448378
                        ]
                      },
                      {
                        "test": [
                          0.736942932,
                          0.5252764534
                        ],
                        "passed_time": 18.65971536,
                        "iteration": 314,
                        "remaining_time": 99.81466788,
                        "learn": [
                          0.7244610412,
                          0.5372237907
                        ]
                      },
                      {
                        "test": [
                          0.7367730872,
                          0.5252381195
                        ],
                        "passed_time": 18.73214178,
                        "iteration": 315,
                        "remaining_time": 99.82571756,
                        "learn": [
                          0.7244906925,
                          0.5371894123
                        ]
                      },
                      {
                        "test": [
                          0.7368367964,
                          0.5252335292
                        ],
                        "passed_time": 18.7861974,
                        "iteration": 316,
                        "remaining_time": 99.73870733,
                        "learn": [
                          0.7245259808,
                          0.5371670468
                        ]
                      },
                      {
                        "test": [
                          0.7368898749,
                          0.5251840614
                        ],
                        "passed_time": 18.84702792,
                        "iteration": 317,
                        "remaining_time": 99.6877389,
                        "learn": [
                          0.7245761914,
                          0.5371039545
                        ]
                      },
                      {
                        "test": [
                          0.7366722147,
                          0.5251848427
                        ],
                        "passed_time": 18.90018552,
                        "iteration": 318,
                        "remaining_time": 99.59627543,
                        "learn": [
                          0.7245796487,
                          0.5370867653
                        ]
                      },
                      {
                        "test": [
                          0.7367199717,
                          0.5251806431
                        ],
                        "passed_time": 18.95270476,
                        "iteration": 319,
                        "remaining_time": 99.5017,
                        "learn": [
                          0.7245967489,
                          0.5370531194
                        ]
                      },
                      {
                        "test": [
                          0.7369111268,
                          0.5251523688
                        ],
                        "passed_time": 19.01507733,
                        "iteration": 320,
                        "remaining_time": 99.45892472,
                        "learn": [
                          0.7246551443,
                          0.5370212803
                        ]
                      },
                      {
                        "test": [
                          0.7370013616,
                          0.5251675558
                        ],
                        "passed_time": 19.07355965,
                        "iteration": 321,
                        "remaining_time": 99.39575495,
                        "learn": [
                          0.724551274,
                          0.5369913456
                        ]
                      },
                      {
                        "test": [
                          0.7369004993,
                          0.5251696556
                        ],
                        "passed_time": 19.12961085,
                        "iteration": 322,
                        "remaining_time": 99.31999195,
                        "learn": [
                          0.7245670962,
                          0.536960532
                        ]
                      },
                      {
                        "test": [
                          0.7370491803,
                          0.5251602797
                        ],
                        "passed_time": 19.18074299,
                        "iteration": 323,
                        "remaining_time": 99.21890511,
                        "learn": [
                          0.7245487183,
                          0.5369500329
                        ]
                      },
                      {
                        "test": [
                          0.7370120044,
                          0.5251502201
                        ],
                        "passed_time": 19.23706959,
                        "iteration": 324,
                        "remaining_time": 99.1448971,
                        "learn": [
                          0.7245350757,
                          0.5369215633
                        ]
                      },
                      {
                        "test": [
                          0.7369482976,
                          0.5251532477
                        ],
                        "passed_time": 19.29483415,
                        "iteration": 325,
                        "remaining_time": 99.07838151,
                        "learn": [
                          0.7245156067,
                          0.53690496
                        ]
                      },
                      {
                        "test": [
                          0.7368845843,
                          0.525161061
                        ],
                        "passed_time": 19.35029185,
                        "iteration": 326,
                        "remaining_time": 99.00011703,
                        "learn": [
                          0.7245418027,
                          0.5368921658
                        ]
                      },
                      {
                        "test": [
                          0.7368580365,
                          0.5251544197
                        ],
                        "passed_time": 19.40701427,
                        "iteration": 327,
                        "remaining_time": 98.92843859,
                        "learn": [
                          0.7245851013,
                          0.5368724861
                        ]
                      },
                      {
                        "test": [
                          0.7368580365,
                          0.5251519293
                        ],
                        "passed_time": 19.46377966,
                        "iteration": 328,
                        "remaining_time": 98.85706935,
                        "learn": [
                          0.7246660641,
                          0.5368436258
                        ]
                      },
                      {
                        "test": [
                          0.7368952121,
                          0.5251289777
                        ],
                        "passed_time": 19.52927297,
                        "iteration": 329,
                        "remaining_time": 98.82995714,
                        "learn": [
                          0.7246649719,
                          0.5367918628
                        ]
                      },
                      {
                        "test": [
                          0.7367040065,
                          0.5251107142
                        ],
                        "passed_time": 19.59006595,
                        "iteration": 330,
                        "remaining_time": 98.7789126,
                        "learn": [
                          0.7246751616,
                          0.5367754549
                        ]
                      },
                      {
                        "test": [
                          0.7367411818,
                          0.5250930855
                        ],
                        "passed_time": 19.64669907,
                        "iteration": 331,
                        "remaining_time": 98.70690981,
                        "learn": [
                          0.7246717051,
                          0.5367552869
                        ]
                      },
                      {
                        "test": [
                          0.7367146101,
                          0.5250793634
                        ],
                        "passed_time": 19.70542493,
                        "iteration": 332,
                        "remaining_time": 98.64547553,
                        "learn": [
                          0.724703726,
                          0.5367402463
                        ]
                      },
                      {
                        "test": [
                          0.736725217,
                          0.5250801936
                        ],
                        "passed_time": 19.77390437,
                        "iteration": 333,
                        "remaining_time": 98.63270865,
                        "learn": [
                          0.7247049962,
                          0.5367219827
                        ]
                      },
                      {
                        "test": [
                          0.7365499142,
                          0.5250854187
                        ],
                        "passed_time": 19.82638389,
                        "iteration": 334,
                        "remaining_time": 98.54008707,
                        "learn": [
                          0.7246720643,
                          0.5367076747
                        ]
                      },
                      {
                        "test": [
                          0.7363530778,
                          0.5249890712
                        ],
                        "passed_time": 19.88424638,
                        "iteration": 335,
                        "remaining_time": 98.47436304,
                        "learn": [
                          0.7247459372,
                          0.5366075182
                        ]
                      },
                      {
                        "test": [
                          0.7360872639,
                          0.5249863365
                        ],
                        "passed_time": 19.93669882,
                        "iteration": 336,
                        "remaining_time": 98.38198855,
                        "learn": [
                          0.7248065178,
                          0.5366006327
                        ]
                      },
                      {
                        "test": [
                          0.7360872639,
                          0.5249874109
                        ],
                        "passed_time": 19.99187522,
                        "iteration": 337,
                        "remaining_time": 98.30324441,
                        "learn": [
                          0.7248121622,
                          0.5365672798
                        ]
                      },
                      {
                        "test": [
                          0.7361349631,
                          0.5249830647
                        ],
                        "passed_time": 20.04289737,
                        "iteration": 338,
                        "remaining_time": 98.20428477,
                        "learn": [
                          0.7247343013,
                          0.5365570248
                        ]
                      },
                      {
                        "test": [
                          0.7360444557,
                          0.5249750073
                        ],
                        "passed_time": 20.11403594,
                        "iteration": 339,
                        "remaining_time": 98.20382254,
                        "learn": [
                          0.7248360064,
                          0.5365442794
                        ]
                      },
                      {
                        "test": [
                          0.7361293583,
                          0.5249690985
                        ],
                        "passed_time": 20.16970881,
                        "iteration": 340,
                        "remaining_time": 98.12770357,
                        "learn": [
                          0.7248724081,
                          0.536514296
                        ]
                      },
                      {
                        "test": [
                          0.7362409663,
                          0.5249605527
                        ],
                        "passed_time": 20.22383022,
                        "iteration": 341,
                        "remaining_time": 98.04418275,
                        "learn": [
                          0.72496249,
                          0.5364706881
                        ]
                      },
                      {
                        "test": [
                          0.7364803396,
                          0.5248694791
                        ],
                        "passed_time": 20.28001593,
                        "iteration": 342,
                        "remaining_time": 97.97080581,
                        "learn": [
                          0.7249557433,
                          0.5363465057
                        ]
                      },
                      {
                        "test": [
                          0.7363792581,
                          0.5248537549
                        ],
                        "passed_time": 20.33437601,
                        "iteration": 343,
                        "remaining_time": 97.88874032,
                        "learn": [
                          0.7250550844,
                          0.5363052907
                        ]
                      },
                      {
                        "test": [
                          0.7365708222,
                          0.5248179115
                        ],
                        "passed_time": 20.39160635,
                        "iteration": 344,
                        "remaining_time": 97.82060436,
                        "learn": [
                          0.7250174199,
                          0.5362759909
                        ]
                      },
                      {
                        "test": [
                          0.7369271965,
                          0.5248239668
                        ],
                        "passed_time": 20.45231071,
                        "iteration": 345,
                        "remaining_time": 97.76913847,
                        "learn": [
                          0.7250947992,
                          0.5362498164
                        ]
                      },
                      {
                        "test": [
                          0.7368899667,
                          0.5248346612
                        ],
                        "passed_time": 20.50824771,
                        "iteration": 346,
                        "remaining_time": 97.69490913,
                        "learn": [
                          0.725003453,
                          0.5362156821
                        ]
                      },
                      {
                        "test": [
                          0.7365602264,
                          0.5248481391
                        ],
                        "passed_time": 20.56800048,
                        "iteration": 347,
                        "remaining_time": 97.63889883,
                        "learn": [
                          0.7250480268,
                          0.5361952211
                        ]
                      },
                      {
                        "test": [
                          0.7367464405,
                          0.5248386167
                        ],
                        "passed_time": 20.62887404,
                        "iteration": 348,
                        "remaining_time": 97.58816917,
                        "learn": [
                          0.7251111055,
                          0.5361487809
                        ]
                      },
                      {
                        "test": [
                          0.7365124268,
                          0.5248468695
                        ],
                        "passed_time": 20.68648426,
                        "iteration": 349,
                        "remaining_time": 97.52199725,
                        "learn": [
                          0.7251420142,
                          0.5361174789
                        ]
                      },
                      {
                        "test": [
                          0.7365124268,
                          0.5248564896
                        ],
                        "passed_time": 20.75068978,
                        "iteration": 350,
                        "remaining_time": 97.48685883,
                        "learn": [
                          0.7250976011,
                          0.5361090797
                        ]
                      },
                      {
                        "test": [
                          0.7364219674,
                          0.5248370052
                        ],
                        "passed_time": 20.82329689,
                        "iteration": 351,
                        "remaining_time": 97.49088998,
                        "learn": [
                          0.7250941501,
                          0.5360908649
                        ]
                      },
                      {
                        "test": [
                          0.7363209215,
                          0.524838519
                        ],
                        "passed_time": 20.87980293,
                        "iteration": 352,
                        "remaining_time": 97.41936379,
                        "learn": [
                          0.7251682234,
                          0.5360600513
                        ]
                      },
                      {
                        "test": [
                          0.7360016171,
                          0.5248299732
                        ],
                        "passed_time": 20.93463166,
                        "iteration": 353,
                        "remaining_time": 97.34012349,
                        "learn": [
                          0.72506434,
                          0.5360211802
                        ]
                      },
                      {
                        "test": [
                          0.7359377369,
                          0.5248262619
                        ],
                        "passed_time": 20.99088138,
                        "iteration": 354,
                        "remaining_time": 97.26760525,
                        "learn": [
                          0.7250277766,
                          0.5360015982
                        ]
                      },
                      {
                        "test": [
                          0.7361132171,
                          0.5248307546
                        ],
                        "passed_time": 21.04703602,
                        "iteration": 355,
                        "remaining_time": 97.19473937,
                        "learn": [
                          0.7250265225,
                          0.535987046
                        ]
                      },
                      {
                        "test": [
                          0.7363792581,
                          0.5248238203
                        ],
                        "passed_time": 21.10039319,
                        "iteration": 356,
                        "remaining_time": 97.10909249,
                        "learn": [
                          0.725004865,
                          0.5359670733
                        ]
                      },
                      {
                        "test": [
                          0.7364537,
                          0.5248268968
                        ],
                        "passed_time": 21.15651907,
                        "iteration": 357,
                        "remaining_time": 97.03632489,
                        "learn": [
                          0.7251282116,
                          0.5359526187
                        ]
                      },
                      {
                        "test": [
                          0.7364537,
                          0.5247653183
                        ],
                        "passed_time": 21.20856909,
                        "iteration": 358,
                        "remaining_time": 96.94501913,
                        "learn": [
                          0.7254082414,
                          0.5358682353
                        ]
                      },
                      {
                        "test": [
                          0.7365175638,
                          0.5247568214
                        ],
                        "passed_time": 21.26068226,
                        "iteration": 359,
                        "remaining_time": 96.85421919,
                        "learn": [
                          0.7254206652,
                          0.5358493369
                        ]
                      },
                      {
                        "test": [
                          0.7366931204,
                          0.5247220035
                        ],
                        "passed_time": 21.32607631,
                        "iteration": 360,
                        "remaining_time": 96.82393093,
                        "learn": [
                          0.7254972104,
                          0.5357841937
                        ]
                      },
                      {
                        "test": [
                          0.7367091166,
                          0.5247149227
                        ],
                        "passed_time": 21.37919569,
                        "iteration": 361,
                        "remaining_time": 96.73790757,
                        "learn": [
                          0.7256032887,
                          0.5357681276
                        ]
                      },
                      {
                        "test": [
                          0.7366452721,
                          0.5247138483
                        ],
                        "passed_time": 21.43387926,
                        "iteration": 362,
                        "remaining_time": 96.65911944,
                        "learn": [
                          0.7255896271,
                          0.535758361
                        ]
                      },
                      {
                        "test": [
                          0.7370123307,
                          0.5246806419
                        ],
                        "passed_time": 21.49616019,
                        "iteration": 363,
                        "remaining_time": 96.6146101,
                        "learn": [
                          0.7256217329,
                          0.5356954641
                        ]
                      },
                      {
                        "test": [
                          0.736677116,
                          0.5246730239
                        ],
                        "passed_time": 21.55936744,
                        "iteration": 364,
                        "remaining_time": 96.57415278,
                        "learn": [
                          0.7256511643,
                          0.5356833047
                        ]
                      },
                      {
                        "test": [
                          0.7365387532,
                          0.5246588624
                        ],
                        "passed_time": 21.6231738,
                        "iteration": 365,
                        "remaining_time": 96.53624589,
                        "learn": [
                          0.7257242557,
                          0.5356634785
                        ]
                      },
                      {
                        "test": [
                          0.7363737486,
                          0.5246419173
                        ],
                        "passed_time": 21.67866943,
                        "iteration": 366,
                        "remaining_time": 96.46121846,
                        "learn": [
                          0.7258076662,
                          0.5356342275
                        ]
                      },
                      {
                        "test": [
                          0.7364748711,
                          0.5246382548
                        ],
                        "passed_time": 21.73236363,
                        "iteration": 367,
                        "remaining_time": 96.37830825,
                        "learn": [
                          0.7257767932,
                          0.5356161104
                        ]
                      },
                      {
                        "test": [
                          0.736565391,
                          0.5246176961
                        ],
                        "passed_time": 21.80084272,
                        "iteration": 368,
                        "remaining_time": 96.36090643,
                        "learn": [
                          0.7257424748,
                          0.5355689378
                        ]
                      },
                      {
                        "test": [
                          0.7362726262,
                          0.5246150103
                        ],
                        "passed_time": 21.87312028,
                        "iteration": 369,
                        "remaining_time": 96.35996232,
                        "learn": [
                          0.7257720311,
                          0.5355431051
                        ]
                      },
                      {
                        "test": [
                          0.7362726262,
                          0.5246227259
                        ],
                        "passed_time": 21.92422752,
                        "iteration": 370,
                        "remaining_time": 96.26567824,
                        "learn": [
                          0.7258417799,
                          0.5355289924
                        ]
                      },
                      {
                        "test": [
                          0.7363365185,
                          0.5246190635
                        ],
                        "passed_time": 21.98062115,
                        "iteration": 371,
                        "remaining_time": 96.1947614,
                        "learn": [
                          0.7258177893,
                          0.5355181514
                        ]
                      },
                      {
                        "test": [
                          0.7363204208,
                          0.5246164753
                        ],
                        "passed_time": 22.03320882,
                        "iteration": 372,
                        "remaining_time": 96.10732105,
                        "learn": [
                          0.7258496783,
                          0.5354894376
                        ]
                      },
                      {
                        "test": [
                          0.7363949019,
                          0.5245871755
                        ],
                        "passed_time": 22.08873422,
                        "iteration": 373,
                        "remaining_time": 96.03283916,
                        "learn": [
                          0.7258257862,
                          0.5354573055
                        ]
                      },
                      {
                        "test": [
                          0.7364215637,
                          0.5245881033
                        ],
                        "passed_time": 22.14278314,
                        "iteration": 374,
                        "remaining_time": 95.95206029,
                        "learn": [
                          0.7258178897,
                          0.5354366491
                        ]
                      },
                      {
                        "test": [
                          0.7363470874,
                          0.524582634
                        ],
                        "passed_time": 22.20097066,
                        "iteration": 375,
                        "remaining_time": 95.8892988,
                        "learn": [
                          0.725873766,
                          0.5354256617
                        ]
                      },
                      {
                        "test": [
                          0.7364854614,
                          0.5245773601
                        ],
                        "passed_time": 22.26389972,
                        "iteration": 376,
                        "remaining_time": 95.84697411,
                        "learn": [
                          0.7259491685,
                          0.5354153579
                        ]
                      },
                      {
                        "test": [
                          0.7362887328,
                          0.5245862477
                        ],
                        "passed_time": 22.31788001,
                        "iteration": 377,
                        "remaining_time": 95.76614119,
                        "learn": [
                          0.7260324692,
                          0.5353876208
                        ]
                      },
                      {
                        "test": [
                          0.7363631768,
                          0.5245818527
                        ],
                        "passed_time": 22.37074293,
                        "iteration": 378,
                        "remaining_time": 95.68067096,
                        "learn": [
                          0.7257871187,
                          0.5353610556
                        ]
                      },
                      {
                        "test": [
                          0.7363365185,
                          0.5245853199
                        ],
                        "passed_time": 22.42493742,
                        "iteration": 379,
                        "remaining_time": 95.601049,
                        "learn": [
                          0.7259491685,
                          0.5353493845
                        ]
                      },
                      {
                        "test": [
                          0.7363737486,
                          0.5245742836
                        ],
                        "passed_time": 22.47851973,
                        "iteration": 380,
                        "remaining_time": 95.51895919,
                        "learn": [
                          0.7258944092,
                          0.5353321465
                        ]
                      },
                      {
                        "test": [
                          0.7362248509,
                          0.5245748696
                        ],
                        "passed_time": 22.53161769,
                        "iteration": 381,
                        "remaining_time": 95.43496709,
                        "learn": [
                          0.726025678,
                          0.535300698
                        ]
                      },
                      {
                        "test": [
                          0.7363153904,
                          0.5245682771
                        ],
                        "passed_time": 22.59510797,
                        "iteration": 382,
                        "remaining_time": 95.39501199,
                        "learn": [
                          0.7259458204,
                          0.5352792603
                        ]
                      },
                      {
                        "test": [
                          0.7362409663,
                          0.52456481
                        ],
                        "passed_time": 22.65047218,
                        "iteration": 383,
                        "remaining_time": 95.3207371,
                        "learn": [
                          0.7259298305,
                          0.535249228
                        ]
                      },
                      {
                        "test": [
                          0.7363953312,
                          0.5245650542
                        ],
                        "passed_time": 22.71022792,
                        "iteration": 384,
                        "remaining_time": 95.26498203,
                        "learn": [
                          0.7259309462,
                          0.5352262277
                        ]
                      },
                      {
                        "test": [
                          0.7366612773,
                          0.5245732093
                        ],
                        "passed_time": 22.76249532,
                        "iteration": 385,
                        "remaining_time": 95.17789492,
                        "learn": [
                          0.7259069601,
                          0.535211236
                        ]
                      },
                      {
                        "test": [
                          0.7363420428,
                          0.524558071
                        ],
                        "passed_time": 22.81806582,
                        "iteration": 386,
                        "remaining_time": 95.10475495,
                        "learn": [
                          0.7259959334,
                          0.5351984417
                        ]
                      },
                      {
                        "test": [
                          0.7364431192,
                          0.5245627102
                        ],
                        "passed_time": 22.88395321,
                        "iteration": 387,
                        "remaining_time": 95.07456851,
                        "learn": [
                          0.7259502846,
                          0.5351871125
                        ]
                      },
                      {
                        "test": [
                          0.7364697559,
                          0.524567154
                        ],
                        "passed_time": 22.96154183,
                        "iteration": 388,
                        "remaining_time": 95.09265783,
                        "learn": [
                          0.7260632456,
                          0.5351693861
                        ]
                      },
                      {
                        "test": [
                          0.7365708222,
                          0.5245783367
                        ],
                        "passed_time": 23.02044296,
                        "iteration": 389,
                        "remaining_time": 95.03311066,
                        "learn": [
                          0.7261487869,
                          0.5351379865
                        ]
                      },
                      {
                        "test": [
                          0.7365708222,
                          0.5245738441
                        ],
                        "passed_time": 23.07323336,
                        "iteration": 390,
                        "remaining_time": 94.94842067,
                        "learn": [
                          0.7261567813,
                          0.5351281222
                        ]
                      },
                      {
                        "test": [
                          0.7365441957,
                          0.5245536761
                        ],
                        "passed_time": 23.12957678,
                        "iteration": 391,
                        "remaining_time": 94.87846803,
                        "learn": [
                          0.7261293602,
                          0.5351042917
                        ]
                      },
                      {
                        "test": [
                          0.7366186505,
                          0.5245499159
                        ],
                        "passed_time": 23.18497387,
                        "iteration": 392,
                        "remaining_time": 94.80471503,
                        "learn": [
                          0.7260870657,
                          0.5350817797
                        ]
                      },
                      {
                        "test": [
                          0.7367251048,
                          0.524483796
                        ],
                        "passed_time": 23.24274196,
                        "iteration": 393,
                        "remaining_time": 94.74071978,
                        "learn": [
                          0.726169409,
                          0.5349996425
                        ]
                      },
                      {
                        "test": [
                          0.7367623282,
                          0.5244785221
                        ],
                        "passed_time": 23.2992308,
                        "iteration": 394,
                        "remaining_time": 94.67155806,
                        "learn": [
                          0.7261579783,
                          0.5349873855
                        ]
                      },
                      {
                        "test": [
                          0.7369006114,
                          0.5244782291
                        ],
                        "passed_time": 23.35335618,
                        "iteration": 395,
                        "remaining_time": 94.59288714,
                        "learn": [
                          0.726224169,
                          0.5349685847
                        ]
                      },
                      {
                        "test": [
                          0.7370016674,
                          0.5244815009
                        ],
                        "passed_time": 23.40723322,
                        "iteration": 396,
                        "remaining_time": 94.51333716,
                        "learn": [
                          0.726242541,
                          0.5349385524
                        ]
                      },
                      {
                        "test": [
                          0.7369378474,
                          0.5244588424
                        ],
                        "passed_time": 23.4735475,
                        "iteration": 397,
                        "remaining_time": 94.48397762,
                        "learn": [
                          0.7262653264,
                          0.5349026114
                        ]
                      },
                      {
                        "test": [
                          0.7368261507,
                          0.524463628
                        ],
                        "passed_time": 23.52868447,
                        "iteration": 398,
                        "remaining_time": 94.40958356,
                        "learn": [
                          0.7263315095,
                          0.5348865941
                        ]
                      },
                      {
                        "test": [
                          0.736634664,
                          0.5244629932
                        ],
                        "passed_time": 23.59444191,
                        "iteration": 399,
                        "remaining_time": 94.37776765,
                        "learn": [
                          0.7262745098,
                          0.5348655471
                        ]
                      },
                      {
                        "test": [
                          0.7368846659,
                          0.5244398463
                        ],
                        "passed_time": 23.65122306,
                        "iteration": 400,
                        "remaining_time": 94.30998919,
                        "learn": [
                          0.7262391768,
                          0.5348354171
                        ]
                      },
                      {
                        "test": [
                          0.7366931204,
                          0.5244516151
                        ],
                        "passed_time": 23.70972519,
                        "iteration": 401,
                        "remaining_time": 94.2491066,
                        "learn": [
                          0.726226556,
                          0.5348198394
                        ]
                      },
                      {
                        "test": [
                          0.7365547918,
                          0.5244703181
                        ],
                        "passed_time": 23.76196595,
                        "iteration": 402,
                        "remaining_time": 94.16342339,
                        "learn": [
                          0.726280189,
                          0.5347880491
                        ]
                      },
                      {
                        "test": [
                          0.7363953312,
                          0.5244517616
                        ],
                        "passed_time": 23.81427858,
                        "iteration": 403,
                        "remaining_time": 94.07818962,
                        "learn": [
                          0.7263315744,
                          0.5347337956
                        ]
                      },
                      {
                        "test": [
                          0.7364697559,
                          0.524434084
                        ],
                        "passed_time": 23.87078257,
                        "iteration": 404,
                        "remaining_time": 94.00962517,
                        "learn": [
                          0.7263258942,
                          0.5347131881
                        ]
                      },
                      {
                        "test": [
                          0.7367144878,
                          0.5244391627
                        ],
                        "passed_time": 23.9375866,
                        "iteration": 405,
                        "remaining_time": 93.9815592,
                        "learn": [
                          0.7262711439,
                          0.5346715824
                        ]
                      },
                      {
                        "test": [
                          0.7367038739,
                          0.5244424345
                        ],
                        "passed_time": 24.02119658,
                        "iteration": 406,
                        "remaining_time": 94.01908146,
                        "learn": [
                          0.7263498676,
                          0.5346592276
                        ]
                      },
                      {
                        "test": [
                          0.7366560622,
                          0.5244269056
                        ],
                        "passed_time": 24.07776005,
                        "iteration": 407,
                        "remaining_time": 93.9504755,
                        "learn": [
                          0.7263566718,
                          0.5346413059
                        ]
                      },
                      {
                        "test": [
                          0.7364008283,
                          0.5244157717
                        ],
                        "passed_time": 24.1381791,
                        "iteration": 408,
                        "remaining_time": 93.89692653,
                        "learn": [
                          0.7263452465,
                          0.5346011164
                        ]
                      },
                      {
                        "test": [
                          0.7364858038,
                          0.5244255383
                        ],
                        "passed_time": 24.19880855,
                        "iteration": 409,
                        "remaining_time": 93.84415997,
                        "learn": [
                          0.7263977513,
                          0.5345796787
                        ]
                      },
                      {
                        "test": [
                          0.7365496337,
                          0.5244236338
                        ],
                        "passed_time": 24.25564433,
                        "iteration": 410,
                        "remaining_time": 93.77668817,
                        "learn": [
                          0.7263908845,
                          0.5345425656
                        ]
                      },
                      {
                        "test": [
                          0.7364858038,
                          0.5244259778
                        ],
                        "passed_time": 24.30761719,
                        "iteration": 411,
                        "remaining_time": 93.6905245,
                        "learn": [
                          0.7263258289,
                          0.5345244485
                        ]
                      },
                      {
                        "test": [
                          0.7364219674,
                          0.5244219246
                        ],
                        "passed_time": 24.3662045,
                        "iteration": 412,
                        "remaining_time": 93.62994319,
                        "learn": [
                          0.7263805837,
                          0.5345051595
                        ]
                      },
                      {
                        "test": [
                          0.7364485981,
                          0.5244239268
                        ],
                        "passed_time": 24.42070554,
                        "iteration": 413,
                        "remaining_time": 93.55371736,
                        "learn": [
                          0.7264512647,
                          0.5344904119
                        ]
                      },
                      {
                        "test": [
                          0.7364752235,
                          0.5244326679
                        ],
                        "passed_time": 24.47397406,
                        "iteration": 414,
                        "remaining_time": 93.47288887,
                        "learn": [
                          0.7264957801,
                          0.5344714647
                        ]
                      },
                      {
                        "test": [
                          0.7364646465,
                          0.5244129393
                        ],
                        "passed_time": 24.52740229,
                        "iteration": 415,
                        "remaining_time": 93.39280104,
                        "learn": [
                          0.7264866629,
                          0.5344580845
                        ]
                      },
                      {
                        "test": [
                          0.7363209215,
                          0.5244295914
                        ],
                        "passed_time": 24.59270835,
                        "iteration": 416,
                        "remaining_time": 93.35793122,
                        "learn": [
                          0.7264056225,
                          0.5344456809
                        ]
                      },
                      {
                        "test": [
                          0.7364963872,
                          0.5244325214
                        ],
                        "passed_time": 24.64616663,
                        "iteration": 417,
                        "remaining_time": 93.27807563,
                        "learn": [
                          0.7265231333,
                          0.5344273685
                        ]
                      },
                      {
                        "test": [
                          0.7364164771,
                          0.5244306169
                        ],
                        "passed_time": 24.70441343,
                        "iteration": 418,
                        "remaining_time": 93.21641441,
                        "learn": [
                          0.7264934201,
                          0.5344060773
                        ]
                      },
                      {
                        "test": [
                          0.7364697559,
                          0.5244202643
                        ],
                        "passed_time": 24.79525082,
                        "iteration": 419,
                        "remaining_time": 93.27737212,
                        "learn": [
                          0.7265253354,
                          0.5343938202
                        ]
                      },
                      {
                        "test": [
                          0.7365069739,
                          0.524437307
                        ],
                        "passed_time": 24.86297314,
                        "iteration": 420,
                        "remaining_time": 93.25091352,
                        "learn": [
                          0.7265903971,
                          0.5343577326
                        ]
                      },
                      {
                        "test": [
                          0.7361715037,
                          0.5244166995
                        ],
                        "passed_time": 24.9183616,
                        "iteration": 421,
                        "remaining_time": 93.17813888,
                        "learn": [
                          0.726728423,
                          0.5342925406
                        ]
                      },
                      {
                        "test": [
                          0.7362992922,
                          0.5244260754
                        ],
                        "passed_time": 24.98143526,
                        "iteration": 422,
                        "remaining_time": 93.13409788,
                        "learn": [
                          0.7266953275,
                          0.5342686612
                        ]
                      },
                      {
                        "test": [
                          0.7363259529,
                          0.5244271497
                        ],
                        "passed_time": 25.05715696,
                        "iteration": 423,
                        "remaining_time": 93.13697964,
                        "learn": [
                          0.7267033581,
                          0.5342586505
                        ]
                      },
                      {
                        "test": [
                          0.7361609625,
                          0.5244291519
                        ],
                        "passed_time": 25.11426287,
                        "iteration": 424,
                        "remaining_time": 93.07050356,
                        "learn": [
                          0.7267033581,
                          0.5342312063
                        ]
                      },
                      {
                        "test": [
                          0.7360598554,
                          0.5244173831
                        ],
                        "passed_time": 25.17665418,
                        "iteration": 425,
                        "remaining_time": 93.0236002,
                        "learn": [
                          0.7267147788,
                          0.5341980487
                        ]
                      },
                      {
                        "test": [
                          0.73619818,
                          0.5243996079
                        ],
                        "passed_time": 25.24046129,
                        "iteration": 426,
                        "remaining_time": 92.98183984,
                        "learn": [
                          0.7267022672,
                          0.534158494
                        ]
                      },
                      {
                        "test": [
                          0.7359587483,
                          0.5243889135
                        ],
                        "passed_time": 25.29307982,
                        "iteration": 427,
                        "remaining_time": 92.89888195,
                        "learn": [
                          0.7267057362,
                          0.5341347123
                        ]
                      },
                      {
                        "test": [
                          0.7359587483,
                          0.5243948711
                        ],
                        "passed_time": 25.34958521,
                        "iteration": 428,
                        "remaining_time": 92.83029923,
                        "learn": [
                          0.7267113875,
                          0.5341019454
                        ]
                      },
                      {
                        "test": [
                          0.7361876358,
                          0.5243932108
                        ],
                        "passed_time": 25.40738457,
                        "iteration": 429,
                        "remaining_time": 92.76649714,
                        "learn": [
                          0.726696577,
                          0.5340869536
                        ]
                      },
                      {
                        "test": [
                          0.7362781765,
                          0.5243913552
                        ],
                        "passed_time": 25.46110736,
                        "iteration": 430,
                        "remaining_time": 92.68788272,
                        "learn": [
                          0.7267193775,
                          0.5340705946
                        ]
                      },
                      {
                        "test": [
                          0.7361770949,
                          0.5244005846
                        ],
                        "passed_time": 25.51328985,
                        "iteration": 431,
                        "remaining_time": 92.60379278,
                        "learn": [
                          0.7268779961,
                          0.5340445177
                        ]
                      },
                      {
                        "test": [
                          0.7363420428,
                          0.5243940898
                        ],
                        "passed_time": 25.56440177,
                        "iteration": 432,
                        "remaining_time": 92.51597592,
                        "learn": [
                          0.7268631523,
                          0.5340379253
                        ]
                      },
                      {
                        "test": [
                          0.7359959555,
                          0.5243836395
                        ],
                        "passed_time": 25.63377459,
                        "iteration": 433,
                        "remaining_time": 92.49421893,
                        "learn": [
                          0.7268642573,
                          0.5339863088
                        ]
                      },
                      {
                        "test": [
                          0.7357402913,
                          0.5243749961
                        ],
                        "passed_time": 25.6883674,
                        "iteration": 434,
                        "remaining_time": 92.41906893,
                        "learn": [
                          0.7269144851,
                          0.5339615505
                        ]
                      },
                      {
                        "test": [
                          0.7358356941,
                          0.5244144532
                        ],
                        "passed_time": 25.74411197,
                        "iteration": 435,
                        "remaining_time": 92.34814479,
                        "learn": [
                          0.7269384272,
                          0.5339366945
                        ]
                      },
                      {
                        "test": [
                          0.7358624178,
                          0.5244158205
                        ],
                        "passed_time": 25.79642581,
                        "iteration": 436,
                        "remaining_time": 92.26501953,
                        "learn": [
                          0.7269064965,
                          0.5339195541
                        ]
                      },
                      {
                        "test": [
                          0.7359368677,
                          0.5244261243
                        ],
                        "passed_time": 25.8528546,
                        "iteration": 437,
                        "remaining_time": 92.1967098,
                        "learn": [
                          0.726960123,
                          0.5338938679
                        ]
                      },
                      {
                        "test": [
                          0.7359740982,
                          0.5244301286
                        ],
                        "passed_time": 25.90596083,
                        "iteration": 438,
                        "remaining_time": 92.11663976,
                        "learn": [
                          0.7269658409,
                          0.5338695002
                        ]
                      },
                      {
                        "test": [
                          0.7358356941,
                          0.5244435576
                        ],
                        "passed_time": 25.95999871,
                        "iteration": 439,
                        "remaining_time": 92.03999542,
                        "learn": [
                          0.7269373388,
                          0.5338563642
                        ]
                      },
                      {
                        "test": [
                          0.7358996409,
                          0.5243466241
                        ],
                        "passed_time": 26.02365932,
                        "iteration": 440,
                        "remaining_time": 91.99747137,
                        "learn": [
                          0.7269543606,
                          0.5337355513
                        ]
                      },
                      {
                        "test": [
                          0.7352494687,
                          0.5243110737
                        ],
                        "passed_time": 26.08139115,
                        "iteration": 441,
                        "remaining_time": 91.93395342,
                        "learn": [
                          0.7269133013,
                          0.5336434034
                        ]
                      },
                      {
                        "test": [
                          0.7351750658,
                          0.5243281164
                        ],
                        "passed_time": 26.16043363,
                        "iteration": 442,
                        "remaining_time": 91.94536153,
                        "learn": [
                          0.7269737874,
                          0.5336129804
                        ]
                      },
                      {
                        "test": [
                          0.7348343031,
                          0.5242727398
                        ],
                        "passed_time": 26.21978159,
                        "iteration": 443,
                        "remaining_time": 91.8873427,
                        "learn": [
                          0.7270799081,
                          0.5335298667
                        ]
                      },
                      {
                        "test": [
                          0.7350263051,
                          0.5242982306
                        ],
                        "passed_time": 26.27289593,
                        "iteration": 444,
                        "remaining_time": 91.80753522,
                        "learn": [
                          0.7270445461,
                          0.5335138983
                        ]
                      },
                      {
                        "test": [
                          0.7350263051,
                          0.5242972051
                        ],
                        "passed_time": 26.32736318,
                        "iteration": 445,
                        "remaining_time": 91.73256138,
                        "learn": [
                          0.7270684949,
                          0.5335055478
                        ]
                      },
                      {
                        "test": [
                          0.7349251315,
                          0.5242973028
                        ],
                        "passed_time": 26.37955078,
                        "iteration": 446,
                        "remaining_time": 91.6497592,
                        "learn": [
                          0.7270650694,
                          0.5334937302
                        ]
                      },
                      {
                        "test": [
                          0.7348343031,
                          0.5242892453
                        ],
                        "passed_time": 26.43786943,
                        "iteration": 447,
                        "remaining_time": 91.58833339,
                        "learn": [
                          0.7270536555,
                          0.5334579845
                        ]
                      },
                      {
                        "test": [
                          0.7347971264,
                          0.5242793811
                        ],
                        "passed_time": 26.49269598,
                        "iteration": 448,
                        "remaining_time": 91.51485849,
                        "learn": [
                          0.7270513665,
                          0.5334429439
                        ]
                      },
                      {
                        "test": [
                          0.7346153846,
                          0.5242733746
                        ],
                        "passed_time": 26.5620866,
                        "iteration": 449,
                        "remaining_time": 91.49163163,
                        "learn": [
                          0.7271084111,
                          0.533407833
                        ]
                      },
                      {
                        "test": [
                          0.7346153846,
                          0.5242802601
                        ],
                        "passed_time": 26.62952192,
                        "iteration": 450,
                        "remaining_time": 91.46148437,
                        "learn": [
                          0.7271061122,
                          0.5333926947
                        ]
                      },
                      {
                        "test": [
                          0.7346525634,
                          0.5242919311
                        ],
                        "passed_time": 26.68231359,
                        "iteration": 451,
                        "remaining_time": 91.38102089,
                        "learn": [
                          0.7271266547,
                          0.5333822933
                        ]
                      },
                      {
                        "test": [
                          0.7346257023,
                          0.5242929566
                        ],
                        "passed_time": 26.73700029,
                        "iteration": 452,
                        "remaining_time": 91.30715109,
                        "learn": [
                          0.7271061122,
                          0.5333719895
                        ]
                      },
                      {
                        "test": [
                          0.734881838,
                          0.5242733258
                        ],
                        "passed_time": 26.79041293,
                        "iteration": 453,
                        "remaining_time": 91.22902729,
                        "learn": [
                          0.7271186547,
                          0.5333436176
                        ]
                      },
                      {
                        "test": [
                          0.7356391586,
                          0.5242246393
                        ],
                        "passed_time": 26.84261414,
                        "iteration": 454,
                        "remaining_time": 91.14689857,
                        "learn": [
                          0.7271711707,
                          0.5332384313
                        ]
                      },
                      {
                        "test": [
                          0.7354205655,
                          0.5242349919
                        ],
                        "passed_time": 26.89549489,
                        "iteration": 455,
                        "remaining_time": 91.06720199,
                        "learn": [
                          0.7271723168,
                          0.5332081548
                        ]
                      },
                      {
                        "test": [
                          0.7353194072,
                          0.5242278134
                        ],
                        "passed_time": 26.95179246,
                        "iteration": 456,
                        "remaining_time": 90.99915923,
                        "learn": [
                          0.7273012526,
                          0.5331667444
                        ]
                      },
                      {
                        "test": [
                          0.7350263051,
                          0.5241670651
                        ],
                        "passed_time": 27.00708429,
                        "iteration": 457,
                        "remaining_time": 90.92778161,
                        "learn": [
                          0.7273137952,
                          0.5331015035
                        ]
                      },
                      {
                        "test": [
                          0.734935492,
                          0.5241614005
                        ],
                        "passed_time": 27.0574823,
                        "iteration": 458,
                        "remaining_time": 90.84004407,
                        "learn": [
                          0.7272841358,
                          0.5330784055
                        ]
                      },
                      {
                        "test": [
                          0.7349623109,
                          0.5241607657
                        ],
                        "passed_time": 27.12215484,
                        "iteration": 459,
                        "remaining_time": 90.80025752,
                        "learn": [
                          0.7273137981,
                          0.5330411947
                        ]
                      },
                      {
                        "test": [
                          0.7353447403,
                          0.5241690673
                        ],
                        "passed_time": 27.1995142,
                        "iteration": 460,
                        "remaining_time": 90.80271661,
                        "learn": [
                          0.72748265,
                          0.5329966102
                        ]
                      },
                      {
                        "test": [
                          0.7352166869,
                          0.5241670651
                        ],
                        "passed_time": 27.25400562,
                        "iteration": 461,
                        "remaining_time": 90.72870269,
                        "learn": [
                          0.727531721,
                          0.5329849391
                        ]
                      },
                      {
                        "test": [
                          0.7349873418,
                          0.5241213086
                        ],
                        "passed_time": 27.31794022,
                        "iteration": 462,
                        "remaining_time": 90.68612121,
                        "learn": [
                          0.7274165004,
                          0.5329340551
                        ]
                      },
                      {
                        "test": [
                          0.7349129202,
                          0.5241031916
                        ],
                        "passed_time": 27.37795808,
                        "iteration": 463,
                        "remaining_time": 90.63048193,
                        "learn": [
                          0.7274587206,
                          0.5329177937
                        ]
                      },
                      {
                        "test": [
                          0.7349232873,
                          0.5241137883
                        ],
                        "passed_time": 27.43120322,
                        "iteration": 464,
                        "remaining_time": 90.55246655,
                        "learn": [
                          0.727483824,
                          0.5329027532
                        ]
                      },
                      {
                        "test": [
                          0.7351690626,
                          0.5241028986
                        ],
                        "passed_time": 27.48763985,
                        "iteration": 465,
                        "remaining_time": 90.48506338,
                        "learn": [
                          0.7275066526,
                          0.5328902519
                        ]
                      },
                      {
                        "test": [
                          0.7350946452,
                          0.5240919111
                        ],
                        "passed_time": 27.5515007,
                        "iteration": 466,
                        "remaining_time": 90.44207833,
                        "learn": [
                          0.7276139074,
                          0.5328664702
                        ]
                      },
                      {
                        "test": [
                          0.7352598816,
                          0.5241130558
                        ],
                        "passed_time": 27.61677365,
                        "iteration": 467,
                        "remaining_time": 90.40362656,
                        "learn": [
                          0.727624188,
                          0.5328366821
                        ]
                      },
                      {
                        "test": [
                          0.7354890947,
                          0.5241156928
                        ],
                        "passed_time": 27.67360786,
                        "iteration": 468,
                        "remaining_time": 90.33751309,
                        "learn": [
                          0.7276184738,
                          0.5328122656
                        ]
                      },
                      {
                        "test": [
                          0.7356915136,
                          0.5240974293
                        ],
                        "passed_time": 27.73170892,
                        "iteration": 469,
                        "remaining_time": 90.27556307,
                        "learn": [
                          0.7277120229,
                          0.5327751525
                        ]
                      },
                      {
                        "test": [
                          0.736021859,
                          0.5240904462
                        ],
                        "passed_time": 27.78506802,
                        "iteration": 470,
                        "remaining_time": 90.19823566,
                        "learn": [
                          0.7277918981,
                          0.5327585005
                        ]
                      },
                      {
                        "test": [
                          0.7358299595,
                          0.5240926436
                        ],
                        "passed_time": 27.83949749,
                        "iteration": 471,
                        "remaining_time": 90.12447491,
                        "learn": [
                          0.7278272876,
                          0.5327297867
                        ]
                      },
                      {
                        "test": [
                          0.7356112377,
                          0.5240834142
                        ],
                        "passed_time": 27.89460237,
                        "iteration": 472,
                        "remaining_time": 90.05297636,
                        "learn": [
                          0.727833007,
                          0.5327200689
                        ]
                      },
                      {
                        "test": [
                          0.7359473817,
                          0.5240680318
                        ],
                        "passed_time": 27.95856538,
                        "iteration": 473,
                        "remaining_time": 90.01006491,
                        "learn": [
                          0.7279196737,
                          0.5326835906
                        ]
                      },
                      {
                        "test": [
                          0.7356810362,
                          0.52406769
                        ],
                        "passed_time": 28.01558886,
                        "iteration": 474,
                        "remaining_time": 89.94478528,
                        "learn": [
                          0.7279779089,
                          0.5326624459
                        ]
                      },
                      {
                        "test": [
                          0.7355054133,
                          0.5240866372
                        ],
                        "passed_time": 28.07187046,
                        "iteration": 475,
                        "remaining_time": 89.8771651,
                        "learn": [
                          0.72791515,
                          0.5326411059
                        ]
                      },
                      {
                        "test": [
                          0.7354682046,
                          0.5240863442
                        ],
                        "passed_time": 28.12925759,
                        "iteration": 476,
                        "remaining_time": 89.81312224,
                        "learn": [
                          0.727964203,
                          0.5326116108
                        ]
                      },
                      {
                        "test": [
                          0.7354414369,
                          0.5240890788
                        ],
                        "passed_time": 28.19529457,
                        "iteration": 477,
                        "remaining_time": 89.77664924,
                        "learn": [
                          0.7280418233,
                          0.5325981817
                        ]
                      },
                      {
                        "test": [
                          0.7354414369,
                          0.5240756009
                        ],
                        "passed_time": 28.27923542,
                        "iteration": 478,
                        "remaining_time": 89.79690411,
                        "learn": [
                          0.7279607885,
                          0.5325640474
                        ]
                      },
                      {
                        "test": [
                          0.7356170622,
                          0.524065639
                        ],
                        "passed_time": 28.33382775,
                        "iteration": 479,
                        "remaining_time": 89.72378788,
                        "learn": [
                          0.727944822,
                          0.5325373358
                        ]
                      },
                      {
                        "test": [
                          0.7356275304,
                          0.524068276
                        ],
                        "passed_time": 28.38987649,
                        "iteration": 480,
                        "remaining_time": 89.65534801,
                        "learn": [
                          0.7279619425,
                          0.5325254693
                        ]
                      },
                      {
                        "test": [
                          0.735670562,
                          0.5240543097
                        ],
                        "passed_time": 28.4498571,
                        "iteration": 481,
                        "remaining_time": 89.5993425,
                        "learn": [
                          0.727979112,
                          0.5324739505
                        ]
                      },
                      {
                        "test": [
                          0.7357717408,
                          0.5240756009
                        ],
                        "passed_time": 28.50555045,
                        "iteration": 482,
                        "remaining_time": 89.52985514,
                        "learn": [
                          0.7279095166,
                          0.5324441624
                        ]
                      },
                      {
                        "test": [
                          0.7359101487,
                          0.5240946458
                        ],
                        "passed_time": 28.55908395,
                        "iteration": 483,
                        "remaining_time": 89.45365965,
                        "learn": [
                          0.7278706633,
                          0.5324244827
                        ]
                      },
                      {
                        "test": [
                          0.7358834244,
                          0.5241020196
                        ],
                        "passed_time": 28.62509324,
                        "iteration": 484,
                        "remaining_time": 89.41652838,
                        "learn": [
                          0.7277965017,
                          0.5324138859
                        ]
                      },
                      {
                        "test": [
                          0.7359101487,
                          0.5241059751
                        ],
                        "passed_time": 28.67598164,
                        "iteration": 485,
                        "remaining_time": 89.33217326,
                        "learn": [
                          0.7278284775,
                          0.5324022637
                        ]
                      },
                      {
                        "test": [
                          0.7358566947,
                          0.5241004569
                        ],
                        "passed_time": 28.72898135,
                        "iteration": 486,
                        "remaining_time": 89.25451494,
                        "learn": [
                          0.7278980732,
                          0.5323794098
                        ]
                      },
                      {
                        "test": [
                          0.7359206598,
                          0.5240951341
                        ],
                        "passed_time": 28.78207152,
                        "iteration": 487,
                        "remaining_time": 89.177238,
                        "learn": [
                          0.7279677134,
                          0.5323561165
                        ]
                      },
                      {
                        "test": [
                          0.7358671998,
                          0.5240841467
                        ],
                        "passed_time": 28.83928725,
                        "iteration": 488,
                        "remaining_time": 89.11280783,
                        "learn": [
                          0.7280179258,
                          0.5323240332
                        ]
                      },
                      {
                        "test": [
                          0.7357287449,
                          0.5240875162
                        ],
                        "passed_time": 28.89639413,
                        "iteration": 489,
                        "remaining_time": 89.04807171,
                        "learn": [
                          0.7280578971,
                          0.5323096763
                        ]
                      },
                      {
                        "test": [
                          0.7355367718,
                          0.5241040706
                        ],
                        "passed_time": 28.95046468,
                        "iteration": 490,
                        "remaining_time": 88.97403503,
                        "learn": [
                          0.7280658808,
                          0.5322991772
                        ]
                      },
                      {
                        "test": [
                          0.7357450038,
                          0.5240819004
                        ],
                        "passed_time": 29.00739222,
                        "iteration": 491,
                        "remaining_time": 88.90883632,
                        "learn": [
                          0.7281730715,
                          0.5322448749
                        ]
                      },
                      {
                        "test": [
                          0.7357612544,
                          0.5240803866
                        ],
                        "passed_time": 29.05804856,
                        "iteration": 492,
                        "remaining_time": 88.82450138,
                        "learn": [
                          0.7280955011,
                          0.5322345223
                        ]
                      },
                      {
                        "test": [
                          0.7356973039,
                          0.5240791657
                        ],
                        "passed_time": 29.11812319,
                        "iteration": 493,
                        "remaining_time": 88.76901525,
                        "learn": [
                          0.7281126237,
                          0.5321961395
                        ]
                      },
                      {
                        "test": [
                          0.7356065972,
                          0.5240641252
                        ],
                        "passed_time": 29.17120084,
                        "iteration": 494,
                        "remaining_time": 88.6922369,
                        "learn": [
                          0.7281947007,
                          0.5321848591
                        ]
                      },
                      {
                        "test": [
                          0.7355530817,
                          0.5240660785
                        ],
                        "passed_time": 29.2335799,
                        "iteration": 495,
                        "remaining_time": 88.64375842,
                        "learn": [
                          0.7282882227,
                          0.5321636168
                        ]
                      },
                      {
                        "test": [
                          0.7354995445,
                          0.5240526982
                        ],
                        "passed_time": 29.3164773,
                        "iteration": 496,
                        "remaining_time": 88.6572744,
                        "learn": [
                          0.7282769009,
                          0.5321406164
                        ]
                      },
                      {
                        "test": [
                          0.7352866758,
                          0.5240519169
                        ],
                        "passed_time": 29.3726642,
                        "iteration": 497,
                        "remaining_time": 88.58984262,
                        "learn": [
                          0.7283281977,
                          0.5321210832
                        ]
                      },
                      {
                        "test": [
                          0.735462321,
                          0.5240389273
                        ],
                        "passed_time": 29.42788155,
                        "iteration": 498,
                        "remaining_time": 88.5195395,
                        "learn": [
                          0.7283179676,
                          0.532094811
                        ]
                      },
                      {
                        "test": [
                          0.7354727678,
                          0.524036681
                        ],
                        "passed_time": 29.48131886,
                        "iteration": 499,
                        "remaining_time": 88.44395659,
                        "learn": [
                          0.7282895232,
                          0.5320791845
                        ]
                      },
                      {
                        "test": [
                          0.735792723,
                          0.5240287701
                        ],
                        "passed_time": 29.53745529,
                        "iteration": 500,
                        "remaining_time": 88.37653788,
                        "learn": [
                          0.7283179676,
                          0.5320557935
                        ]
                      },
                      {
                        "test": [
                          0.735792723,
                          0.5240166106
                        ],
                        "passed_time": 29.59455665,
                        "iteration": 501,
                        "remaining_time": 88.31204356,
                        "learn": [
                          0.7283293586,
                          0.5320476384
                        ]
                      },
                      {
                        "test": [
                          0.7357019941,
                          0.5240110925
                        ],
                        "passed_time": 29.66640598,
                        "iteration": 502,
                        "remaining_time": 88.29147067,
                        "learn": [
                          0.728292934,
                          0.5320151156
                        ]
                      },
                      {
                        "test": [
                          0.735654286,
                          0.5240171478
                        ],
                        "passed_time": 29.71769084,
                        "iteration": 503,
                        "remaining_time": 88.20965377,
                        "learn": [
                          0.7282404705,
                          0.5319946545
                        ]
                      },
                      {
                        "test": [
                          0.7357287449,
                          0.5240153898
                        ],
                        "passed_time": 29.77469374,
                        "iteration": 504,
                        "remaining_time": 88.14488542,
                        "learn": [
                          0.728231395,
                          0.5319921641
                        ]
                      },
                      {
                        "test": [
                          0.7357659801,
                          0.5240288677
                        ],
                        "passed_time": 29.83092091,
                        "iteration": 505,
                        "remaining_time": 88.07785738,
                        "learn": [
                          0.7282222529,
                          0.531981665
                        ]
                      },
                      {
                        "test": [
                          0.7356915136,
                          0.5240223241
                        ],
                        "passed_time": 29.88519645,
                        "iteration": 506,
                        "remaining_time": 88.00512486,
                        "learn": [
                          0.728323772,
                          0.5319272162
                        ]
                      },
                      {
                        "test": [
                          0.735792723,
                          0.5240173431
                        ],
                        "passed_time": 29.9389864,
                        "iteration": 507,
                        "remaining_time": 87.93103881,
                        "learn": [
                          0.728335164,
                          0.5319083666
                        ]
                      },
                      {
                        "test": [
                          0.7357554903,
                          0.5240215428
                        ],
                        "passed_time": 29.98923935,
                        "iteration": 508,
                        "remaining_time": 87.84667164,
                        "learn": [
                          0.728384137,
                          0.5318955724
                        ]
                      },
                      {
                        "test": [
                          0.7358299595,
                          0.5240306257
                        ],
                        "passed_time": 30.04521466,
                        "iteration": 509,
                        "remaining_time": 87.77915656,
                        "learn": [
                          0.7284012602,
                          0.5318798481
                        ]
                      },
                      {
                        "test": [
                          0.7360323887,
                          0.5240167083
                        ],
                        "passed_time": 30.10528606,
                        "iteration": 510,
                        "remaining_time": 87.7236222,
                        "learn": [
                          0.7283887083,
                          0.5318513785
                        ]
                      },
                      {
                        "test": [
                          0.7360591033,
                          0.5239826229
                        ],
                        "passed_time": 30.1610633,
                        "iteration": 511,
                        "remaining_time": 87.65559021,
                        "learn": [
                          0.7284927001,
                          0.5317822798
                        ]
                      },
                      {
                        "test": [
                          0.7357287449,
                          0.5239885317
                        ],
                        "passed_time": 30.21440967,
                        "iteration": 512,
                        "remaining_time": 87.5805598,
                        "learn": [
                          0.7284413229,
                          0.5317598166
                        ]
                      },
                      {
                        "test": [
                          0.735792723,
                          0.5239890688
                        ],
                        "passed_time": 30.2794185,
                        "iteration": 513,
                        "remaining_time": 87.53933052,
                        "learn": [
                          0.7284687569,
                          0.5317508313
                        ]
                      },
                      {
                        "test": [
                          0.7355903041,
                          0.5240063069
                        ],
                        "passed_time": 30.33920252,
                        "iteration": 514,
                        "remaining_time": 87.48294319,
                        "learn": [
                          0.7284573667,
                          0.5317320795
                        ]
                      },
                      {
                        "test": [
                          0.735462321,
                          0.5240104089
                        ],
                        "passed_time": 30.41044772,
                        "iteration": 515,
                        "remaining_time": 87.45950468,
                        "learn": [
                          0.7284231935,
                          0.5317191387
                        ]
                      },
                      {
                        "test": [
                          0.735462321,
                          0.5240026932
                        ],
                        "passed_time": 30.46127966,
                        "iteration": 516,
                        "remaining_time": 87.37732637,
                        "learn": [
                          0.728418621,
                          0.5317119603
                        ]
                      },
                      {
                        "test": [
                          0.735515863,
                          0.5240056721
                        ],
                        "passed_time": 30.52495248,
                        "iteration": 517,
                        "remaining_time": 87.3320069,
                        "learn": [
                          0.7284699207,
                          0.5316961872
                        ]
                      },
                      {
                        "test": [
                          0.7354995445,
                          0.5239947823
                        ],
                        "passed_time": 30.58001712,
                        "iteration": 518,
                        "remaining_time": 87.2620527,
                        "learn": [
                          0.7285247095,
                          0.5316631761
                        ]
                      },
                      {
                        "test": [
                          0.7353611013,
                          0.5240028397
                        ],
                        "passed_time": 30.64518018,
                        "iteration": 519,
                        "remaining_time": 87.22089744,
                        "learn": [
                          0.7285429142,
                          0.5316514562
                        ]
                      },
                      {
                        "test": [
                          0.7353238866,
                          0.5240148527
                        ],
                        "passed_time": 30.69857412,
                        "iteration": 520,
                        "remaining_time": 87.14624016,
                        "learn": [
                          0.7286124954,
                          0.5316384666
                        ]
                      },
                      {
                        "test": [
                          0.7352598816,
                          0.5240179291
                        ],
                        "passed_time": 30.75703126,
                        "iteration": 521,
                        "remaining_time": 87.08600039,
                        "learn": [
                          0.7286046074,
                          0.5316268932
                        ]
                      },
                      {
                        "test": [
                          0.7351690626,
                          0.5240198825
                        ],
                        "passed_time": 30.80929252,
                        "iteration": 522,
                        "remaining_time": 87.00826969,
                        "learn": [
                          0.7285658686,
                          0.5316132199
                        ]
                      },
                      {
                        "test": [
                          0.7351214575,
                          0.5240195895
                        ],
                        "passed_time": 30.86160353,
                        "iteration": 523,
                        "remaining_time": 86.93077635,
                        "learn": [
                          0.7285361858,
                          0.5316045765
                        ]
                      }
                    ]
                  },
                  "total_iterations": 2000,
                  "passed_iterations": 523
                },
                "path": "catboost_info",
                "name": "catboost_info"
              }
            },
            "_view_module": "catboost-widget",
            "_model_module_version": "^1.0.0",
            "_view_count": null,
            "_view_module_version": "^1.0.0",
            "layout": "IPY_MODEL_fb9a624c39b64a52a03c1efbc22cbb13",
            "_model_module": "catboost-widget"
          }
        }
      }
    }
  },
  "cells": [
    {
      "cell_type": "markdown",
      "source": [
        "## **Import Depedencies**"
      ],
      "metadata": {
        "id": "tbhGXVRvSjU7"
      }
    },
    {
      "cell_type": "code",
      "execution_count": 3,
      "source": [
        "import pandas as pd\n",
        "import numpy as np\n",
        "\n",
        "from sklearn.model_selection import train_test_split\n",
        "from sklearn.metrics import classification_report\n",
        "from sklearn.model_selection import GridSearchCV\n",
        "from sklearn.model_selection import cross_val_score, StratifiedKFold, train_test_split"
      ],
      "outputs": [],
      "metadata": {
        "id": "rcvye9TYsMHo"
      }
    },
    {
      "cell_type": "code",
      "execution_count": null,
      "source": [
        "!pip install catboost\n",
        "!pip install lightgbm\n",
        "!pip install mlextend\n",
        "\n",
        "from catboost import CatBoostClassifier\n",
        "from lightgbm import LGBMClassifier\n",
        "from mlxtend.classifier import EnsembleVoteClassifier"
      ],
      "outputs": [],
      "metadata": {
        "id": "mGkr8qj9sL0Z"
      }
    },
    {
      "cell_type": "markdown",
      "source": [
        "Dataset"
      ],
      "metadata": {
        "id": "G1nyd58bsN0Y"
      }
    },
    {
      "cell_type": "code",
      "execution_count": 5,
      "source": [
        "'''input the dataset here (.csv)'''\n",
        "\n",
        "fraud_final = pd.read_csv('fraud_detection_train.csv')"
      ],
      "outputs": [],
      "metadata": {
        "id": "W181dwvYsOH3"
      }
    },
    {
      "cell_type": "code",
      "execution_count": 6,
      "source": [
        "fraud_final.shape"
      ],
      "outputs": [
        {
          "output_type": "execute_result",
          "data": {
            "text/plain": [
              "(200217, 53)"
            ]
          },
          "metadata": {},
          "execution_count": 6
        }
      ],
      "metadata": {
        "id": "OY8cAHqhsPcc",
        "colab": {
          "base_uri": "https://localhost:8080/"
        },
        "outputId": "3c09fe87-e535-4148-dc61-6e2626fa86db"
      }
    },
    {
      "cell_type": "markdown",
      "source": [
        "## **Feature Engineering**"
      ],
      "metadata": {
        "id": "8EUiPCLFsSnM"
      }
    },
    {
      "cell_type": "code",
      "execution_count": 7,
      "source": [
        "secondary_list = list(fraud_final.columns[11:33])\n",
        "procedure_list = list(fraud_final.columns[33:52])"
      ],
      "outputs": [],
      "metadata": {
        "id": "UelUKzhIRiNF"
      }
    },
    {
      "cell_type": "markdown",
      "source": [
        "### New Feature"
      ],
      "metadata": {
        "id": "lFc-dUb4sWUZ"
      }
    },
    {
      "cell_type": "code",
      "execution_count": 8,
      "source": [
        "#@title Encode Binning\n",
        "'''\n",
        "Change value if more than 0.\n",
        "'''\n",
        "def encode_biner(x):\n",
        "  if x != 0:\n",
        "    return 1\n",
        "  else:\n",
        "    return 0"
      ],
      "outputs": [],
      "metadata": {
        "cellView": "form",
        "id": "nrmi1k_4sa3W"
      }
    },
    {
      "cell_type": "code",
      "execution_count": 9,
      "source": [
        "'''binary encoding secondary diagnose and sum of procedure'''\n",
        "\n",
        "# secondary diagnose\n",
        "for cols in secondary_list:\n",
        "  fraud_final[f'{cols}'] = fraud_final[f'{cols}'].apply(encode_biner)\n",
        "\n",
        "# procedure\n",
        "for cols in procedure_list:\n",
        "  fraud_final[f'{cols}'] = fraud_final[f'{cols}'].apply(encode_biner)"
      ],
      "outputs": [],
      "metadata": {
        "id": "LdTU8A9JRobJ"
      }
    },
    {
      "cell_type": "code",
      "execution_count": 10,
      "source": [
        "'''sum of secondary diagnose and sum of procedure'''\n",
        "\n",
        "fraud_final['total_secondary'] = fraud_final[secondary_list].sum(axis=1)\n",
        "fraud_final['total_procedure'] = fraud_final[procedure_list].sum(axis=1)"
      ],
      "outputs": [],
      "metadata": {
        "id": "2kcK0FHjRmzA"
      }
    },
    {
      "cell_type": "code",
      "execution_count": 11,
      "source": [
        "#@title dati2_kdkc\n",
        "def concat_dati2_kdkc(row):\n",
        "  row[\"dati2_kdkc\"] = str(row[\"dati2\"]) + \"_\" + str(row[\"kdkc\"])\n",
        "  return row\n",
        "\n",
        "def apply_row1(row):\n",
        "  row = concat_dati2_kdkc(row)\n",
        "  return row"
      ],
      "outputs": [],
      "metadata": {
        "cellView": "form",
        "id": "BigCvpdNK3hb"
      }
    },
    {
      "cell_type": "code",
      "execution_count": 12,
      "source": [
        "fraud_final = fraud_final.apply(lambda x: apply_row1(x), axis=1)"
      ],
      "outputs": [],
      "metadata": {
        "id": "QNJKQUhoK3xT"
      }
    },
    {
      "cell_type": "code",
      "execution_count": 13,
      "source": [
        "#@title diag_sev\n",
        "def concat_diag_sev(row):\n",
        "  row[\"diag_sev\"] = str(row[\"diagprimer\"]) + \"_\" + str(row[\"severitylevel\"])\n",
        "  return row\n",
        "\n",
        "def apply_row2(row):\n",
        "  row = concat_diag_sev(row)\n",
        "  return row"
      ],
      "outputs": [],
      "metadata": {
        "id": "lOzG7B31K5A3",
        "cellView": "form"
      }
    },
    {
      "cell_type": "code",
      "execution_count": 14,
      "source": [
        "fraud_final = fraud_final.apply(lambda x: apply_row2(x), axis=1)"
      ],
      "outputs": [],
      "metadata": {
        "id": "uEs7FAQqK6Oo"
      }
    },
    {
      "cell_type": "code",
      "execution_count": 15,
      "source": [
        "#@title sev_los\n",
        "def concat_sev_los(row):\n",
        "  row[\"sev_los\"] = str(row[\"severitylevel\"]) + \"_\" + str(row[\"los\"])\n",
        "  return row\n",
        "\n",
        "def apply_row3(row):\n",
        "  row = concat_sev_los(row)\n",
        "  return row"
      ],
      "outputs": [],
      "metadata": {
        "cellView": "form",
        "id": "Frx14rHdNfT0"
      }
    },
    {
      "cell_type": "code",
      "execution_count": 16,
      "source": [
        "fraud_final = fraud_final.apply(lambda x: apply_row3(x), axis=1)"
      ],
      "outputs": [],
      "metadata": {
        "id": "XYAeerSlNfaX"
      }
    },
    {
      "cell_type": "code",
      "execution_count": 17,
      "source": [
        "'''log los'''\n",
        "\n",
        "fraud_final.drop(fraud_final[(fraud_final.los > 40)].index, inplace=True)\n",
        "fraud_final['los_log'] = np.log(fraud_final.los + 2)"
      ],
      "outputs": [],
      "metadata": {
        "id": "UYbvR-PzsoRB"
      }
    },
    {
      "cell_type": "markdown",
      "source": [
        "### Change Data Types"
      ],
      "metadata": {
        "id": "tYnUeG_bsrIW"
      }
    },
    {
      "cell_type": "code",
      "execution_count": 18,
      "source": [
        "fraud_final['dati2'] = fraud_final['dati2'].astype(object)\n",
        "fraud_final['severitylevel'] = fraud_final['severitylevel'].astype(object)\n",
        "\n",
        "fraud_final['los_log'] = fraud_final['los_log'].astype(int)"
      ],
      "outputs": [],
      "metadata": {
        "id": "bnXDnUIBspoU"
      }
    },
    {
      "cell_type": "code",
      "execution_count": 19,
      "source": [
        "'''binary encoding secondary diagnose and sum of procedure'''\n",
        "\n",
        "# secondary diagnose\n",
        "for cols in secondary_list:\n",
        "  fraud_final[f'{cols}'] = fraud_final[f'{cols}'].astype(bool)\n",
        "\n",
        "# procedure\n",
        "for cols in procedure_list:\n",
        "  fraud_final[f'{cols}'] = fraud_final[f'{cols}'].astype(bool)"
      ],
      "outputs": [],
      "metadata": {
        "id": "3fhGi-1cTx30"
      }
    },
    {
      "cell_type": "markdown",
      "source": [
        "### Drop Features"
      ],
      "metadata": {
        "id": "-hpkNvjvsvyP"
      }
    },
    {
      "cell_type": "code",
      "execution_count": 56,
      "source": [
        "# fraud_final.drop(secondary_list, axis=1, inplace=True)\n",
        "# fraud_final.drop(procedure_list, axis=1, inplace=True)"
      ],
      "outputs": [],
      "metadata": {
        "id": "ewwMDbZostlV"
      }
    },
    {
      "cell_type": "code",
      "execution_count": 20,
      "source": [
        "'''add more columns to drop if necessary'''\n",
        "\n",
        "to_drop = ['visit_id', 'jnspelsep', 'los', 'jkpst', 'umur', 'kdkc']\n",
        "\n",
        "fraud_final.drop(to_drop, axis=1, inplace=True)"
      ],
      "outputs": [],
      "metadata": {
        "id": "a2aeZ-j-sxMx"
      }
    },
    {
      "cell_type": "code",
      "execution_count": 21,
      "source": [
        "fraud_final.info()"
      ],
      "outputs": [
        {
          "output_type": "stream",
          "name": "stdout",
          "text": [
            "<class 'pandas.core.frame.DataFrame'>\n",
            "Int64Index: 199980 entries, 0 to 200216\n",
            "Data columns (total 53 columns):\n",
            " #   Column           Non-Null Count   Dtype \n",
            "---  ------           --------------   ----- \n",
            " 0   dati2            199980 non-null  object\n",
            " 1   typeppk          199980 non-null  object\n",
            " 2   cmg              199980 non-null  object\n",
            " 3   severitylevel    199980 non-null  object\n",
            " 4   diagprimer       199980 non-null  object\n",
            " 5   dx2_a00_b99      199980 non-null  bool  \n",
            " 6   dx2_c00_d48      199980 non-null  bool  \n",
            " 7   dx2_d50_d89      199980 non-null  bool  \n",
            " 8   dx2_e00_e90      199980 non-null  bool  \n",
            " 9   dx2_f00_f99      199980 non-null  bool  \n",
            " 10  dx2_g00_g99      199980 non-null  bool  \n",
            " 11  dx2_h00_h59      199980 non-null  bool  \n",
            " 12  dx2_h60_h95      199980 non-null  bool  \n",
            " 13  dx2_i00_i99      199980 non-null  bool  \n",
            " 14  dx2_j00_j99      199980 non-null  bool  \n",
            " 15  dx2_koo_k93      199980 non-null  bool  \n",
            " 16  dx2_l00_l99      199980 non-null  bool  \n",
            " 17  dx2_m00_m99      199980 non-null  bool  \n",
            " 18  dx2_n00_n99      199980 non-null  bool  \n",
            " 19  dx2_o00_o99      199980 non-null  bool  \n",
            " 20  dx2_p00_p96      199980 non-null  bool  \n",
            " 21  dx2_q00_q99      199980 non-null  bool  \n",
            " 22  dx2_r00_r99      199980 non-null  bool  \n",
            " 23  dx2_s00_t98      199980 non-null  bool  \n",
            " 24  dx2_u00_u99      199980 non-null  bool  \n",
            " 25  dx2_v01_y98      199980 non-null  bool  \n",
            " 26  dx2_z00_z99      199980 non-null  bool  \n",
            " 27  proc00_13        199980 non-null  bool  \n",
            " 28  proc14_23        199980 non-null  bool  \n",
            " 29  proc24_27        199980 non-null  bool  \n",
            " 30  proc28_28        199980 non-null  bool  \n",
            " 31  proc29_31        199980 non-null  bool  \n",
            " 32  proc_32_38       199980 non-null  bool  \n",
            " 33  proc39_45        199980 non-null  bool  \n",
            " 34  proc46_51        199980 non-null  bool  \n",
            " 35  proc52_57        199980 non-null  bool  \n",
            " 36  proc58_62        199980 non-null  bool  \n",
            " 37  proc63_67        199980 non-null  bool  \n",
            " 38  proc68_70        199980 non-null  bool  \n",
            " 39  proc71_73        199980 non-null  bool  \n",
            " 40  proc74_75        199980 non-null  bool  \n",
            " 41  proc76_77        199980 non-null  bool  \n",
            " 42  proc78_79        199980 non-null  bool  \n",
            " 43  proc80_99        199980 non-null  bool  \n",
            " 44  proce00_e99      199980 non-null  bool  \n",
            " 45  procv00_v89      199980 non-null  bool  \n",
            " 46  label            199980 non-null  int64 \n",
            " 47  total_secondary  199980 non-null  int64 \n",
            " 48  total_procedure  199980 non-null  int64 \n",
            " 49  dati2_kdkc       199980 non-null  object\n",
            " 50  diag_sev         199980 non-null  object\n",
            " 51  sev_los          199980 non-null  object\n",
            " 52  los_log          199980 non-null  int64 \n",
            "dtypes: bool(41), int64(4), object(8)\n",
            "memory usage: 27.7+ MB\n"
          ]
        }
      ],
      "metadata": {
        "id": "LpcC7DK4syij",
        "colab": {
          "base_uri": "https://localhost:8080/"
        },
        "outputId": "09ed5d82-fecd-46ea-e6be-2701d956624b"
      }
    },
    {
      "cell_type": "code",
      "execution_count": 22,
      "source": [
        "fraud_final.to_csv('grr.csv', index=False)"
      ],
      "outputs": [],
      "metadata": {
        "id": "bRFtujpAWFzm"
      }
    },
    {
      "cell_type": "markdown",
      "source": [
        "## **Model Splitting**"
      ],
      "metadata": {
        "id": "FCrQxaVhs1UC"
      }
    },
    {
      "cell_type": "code",
      "execution_count": 60,
      "source": [
        "'''uncomment if used pre-cleaned dataset'''\n",
        "\n",
        "# fraud_final = pd.read_csv('training.csv')"
      ],
      "outputs": [],
      "metadata": {
        "id": "6eaiz3yCs1j-"
      }
    },
    {
      "cell_type": "code",
      "execution_count": 23,
      "source": [
        "#@title Splitting Function\n",
        "train_size =  0.8#@param {type:\"number\"}\n",
        "rand_state =  10#@param {type:\"number\"}\n",
        "def train_val_test_split(X, y):\n",
        "    \"\"\"Split dataset into data splits.\"\"\"\n",
        "    X_train, X_, y_train, y_ = train_test_split(X, y, train_size=train_size, stratify=y, random_state=rand_state)\n",
        "    X_val, X_test, y_val, y_test = train_test_split(X_, y_, train_size=0.5, stratify=y_, random_state=rand_state)\n",
        "    return X_train, X_val, X_test, y_train, y_val, y_test"
      ],
      "outputs": [],
      "metadata": {
        "id": "_lJE-aMvVBNm",
        "cellView": "form"
      }
    },
    {
      "cell_type": "code",
      "execution_count": 24,
      "source": [
        "X_final = fraud_final.drop(\"label\", axis=1)\n",
        "y_final = fraud_final.label.copy()"
      ],
      "outputs": [],
      "metadata": {
        "id": "WWIQzuitVEi2"
      }
    },
    {
      "cell_type": "code",
      "execution_count": 25,
      "source": [
        "X_train, X_val, X_test, y_train, y_val, y_test = train_val_test_split(X_final, y_final)"
      ],
      "outputs": [],
      "metadata": {
        "id": "DeVNOBGEVGb5"
      }
    },
    {
      "cell_type": "code",
      "execution_count": 26,
      "source": [
        "print (f\"X_train: {X_train.shape}, y_train: {y_train.shape}\")\n",
        "print (f\"X_val: {X_val.shape}, y_val: {y_val.shape}\")\n",
        "print (f\"X_val: {X_test.shape}, y_val: {y_test.shape}\")"
      ],
      "outputs": [
        {
          "output_type": "stream",
          "name": "stdout",
          "text": [
            "X_train: (159984, 52), y_train: (159984,)\n",
            "X_val: (19998, 52), y_val: (19998,)\n",
            "X_val: (19998, 52), y_val: (19998,)\n"
          ]
        }
      ],
      "metadata": {
        "colab": {
          "base_uri": "https://localhost:8080/"
        },
        "id": "alfqUgkzVGoU",
        "outputId": "d07876bc-eb94-4bec-e349-5ff41eb75263"
      }
    },
    {
      "cell_type": "markdown",
      "source": [
        "## **Modeling**"
      ],
      "metadata": {
        "id": "M9G0ZDJHs6WY"
      }
    },
    {
      "cell_type": "markdown",
      "source": [
        "### Base Model"
      ],
      "metadata": {
        "id": "jrckFJppNFN-"
      }
    },
    {
      "cell_type": "markdown",
      "source": [
        "#### CatBoost"
      ],
      "metadata": {
        "id": "80V0TuPOMW0n"
      }
    },
    {
      "cell_type": "code",
      "execution_count": 36,
      "source": [
        "cat_features = [index for index, column in enumerate(X_final.columns) if X_final[column].dtype == \"object\"]"
      ],
      "outputs": [],
      "metadata": {
        "id": "q4wm3F2qs4w-"
      }
    },
    {
      "cell_type": "code",
      "execution_count": 37,
      "source": [
        "params = {\n",
        "    \"loss_function\": \"CrossEntropy\",\n",
        "    \"eval_metric\": \"F1\",\n",
        "    \"random_seed\": 10,\n",
        "    \"task_type\": \"GPU\",\n",
        "    \"cat_features\": cat_features,\n",
        "    \"early_stopping_rounds\": 200,\n",
        "    \"iterations\": 2000,\n",
        "    \"verbose\": 100,\n",
        "    \"max_depth\": 6,\n",
        "    \"learning_rate\": 0.10,\n",
        "}"
      ],
      "outputs": [],
      "metadata": {
        "id": "B_I6b5w5VHwc"
      }
    },
    {
      "cell_type": "code",
      "execution_count": 38,
      "source": [
        "cat = CatBoostClassifier(**params)"
      ],
      "outputs": [],
      "metadata": {
        "id": "IR1m2nZhtAG8"
      }
    },
    {
      "cell_type": "code",
      "execution_count": 39,
      "source": [
        "cat.fit(X_train, y_train, eval_set=(X_val, y_val), use_best_model=True, plot=True)"
      ],
      "outputs": [
        {
          "output_type": "display_data",
          "data": {
            "application/vnd.jupyter.widget-view+json": {
              "model_id": "64add524913043348401d66c1235feda",
              "version_minor": 0,
              "version_major": 2
            },
            "text/plain": [
              "MetricVisualizer(layout=Layout(align_self='stretch', height='500px'))"
            ]
          },
          "metadata": {}
        },
        {
          "output_type": "stream",
          "name": "stdout",
          "text": [
            "0:\tlearn: 0.6305692\ttest: 0.6691287\tbest: 0.6691287 (0)\ttotal: 79.7ms\tremaining: 2m 39s\n",
            "100:\tlearn: 0.7150253\ttest: 0.7318851\tbest: 0.7319896 (94)\ttotal: 6.09s\tremaining: 1m 54s\n",
            "200:\tlearn: 0.7201205\ttest: 0.7355559\tbest: 0.7358842 (195)\ttotal: 12s\tremaining: 1m 47s\n",
            "300:\tlearn: 0.7239337\ttest: 0.7362903\tbest: 0.7367626 (289)\ttotal: 17.9s\tremaining: 1m 40s\n",
            "400:\tlearn: 0.7262392\ttest: 0.7368847\tbest: 0.7370492 (323)\ttotal: 23.7s\tremaining: 1m 34s\n",
            "500:\tlearn: 0.7283180\ttest: 0.7357927\tbest: 0.7370492 (323)\ttotal: 29.5s\tremaining: 1m 28s\n",
            "bestTest = 0.7370491803\n",
            "bestIteration = 323\n",
            "Shrink model to first 324 iterations.\n"
          ]
        },
        {
          "output_type": "execute_result",
          "data": {
            "text/plain": [
              "<catboost.core.CatBoostClassifier at 0x7f95520040d0>"
            ]
          },
          "metadata": {},
          "execution_count": 39
        }
      ],
      "metadata": {
        "colab": {
          "base_uri": "https://localhost:8080/",
          "height": 187,
          "referenced_widgets": [
            "64add524913043348401d66c1235feda"
          ]
        },
        "id": "dH84ObUwVI9I",
        "outputId": "e7330c35-7a95-46e0-db61-16534bc385c5"
      }
    },
    {
      "cell_type": "code",
      "execution_count": 40,
      "source": [
        "cat_pred = cat.predict(X_test)\n",
        "print(classification_report(y_test, cat_pred, labels=[0, 1], digits=5))"
      ],
      "outputs": [
        {
          "output_type": "stream",
          "name": "stdout",
          "text": [
            "              precision    recall  f1-score   support\n",
            "\n",
            "           0    0.73158   0.74529   0.73837      9980\n",
            "           1    0.74143   0.72759   0.73445     10018\n",
            "\n",
            "    accuracy                        0.73642     19998\n",
            "   macro avg    0.73651   0.73644   0.73641     19998\n",
            "weighted avg    0.73652   0.73642   0.73641     19998\n",
            "\n"
          ]
        }
      ],
      "metadata": {
        "colab": {
          "base_uri": "https://localhost:8080/"
        },
        "id": "ViyQDpBMMeJd",
        "outputId": "de72342f-7cab-46e2-a521-a285bade3b84"
      }
    },
    {
      "cell_type": "code",
      "execution_count": 74,
      "source": [
        "from sklearn.model_selection import cross_validate\n",
        "\n",
        "scoring = ['precision', 'recall', 'accuracy']\n",
        "cv = StratifiedKFold(n_splits=5, random_state=10)\n",
        "score = cross_validate(cat, X_final, y_final, scoring=scoring, cv=cv, n_jobs=-1, return_train_score=False)"
      ],
      "outputs": [
        {
          "output_type": "stream",
          "name": "stderr",
          "text": [
            "/usr/local/lib/python3.7/dist-packages/sklearn/model_selection/_split.py:296: FutureWarning: Setting a random_state has no effect since shuffle is False. This will raise an error in 0.24. You should leave random_state to its default (None), or set shuffle=True.\n",
            "  FutureWarning\n"
          ]
        }
      ],
      "metadata": {
        "id": "wg-TBnRKM8gR",
        "colab": {
          "base_uri": "https://localhost:8080/"
        },
        "outputId": "72d4be5b-a201-4d15-c003-b5aaf7dc5b59"
      }
    },
    {
      "cell_type": "code",
      "execution_count": 75,
      "source": [
        "avg_precision = score[\"test_precision\"].mean()\n",
        "avg_recall = score[\"test_recall\"].mean()\n",
        "avg_acc = score[\"test_accuracy\"].mean()\n",
        "\n",
        "print(f'Precision avg: {avg_precision}')\n",
        "print(f'Recall avg: {avg_recall}')\n",
        "print(f'Acc avg: {avg_acc}')\n",
        "\n",
        "print(f'Possible score : {(avg_precision*0.4)+(avg_recall*0.3)+(avg_acc*0.3)}')"
      ],
      "outputs": [
        {
          "output_type": "stream",
          "name": "stdout",
          "text": [
            "Precision avg: 0.7411903475319476\n",
            "Recall avg: 0.7300785790248909\n",
            "Acc avg: 0.7370737073707371\n",
            "Possible score : 0.7366218249314674\n"
          ]
        }
      ],
      "metadata": {
        "colab": {
          "base_uri": "https://localhost:8080/"
        },
        "id": "Ey2fUiM_nSsC",
        "outputId": "f2b91176-c9eb-425e-ab57-a8776ef4ea9a"
      }
    },
    {
      "cell_type": "markdown",
      "source": [
        "#### LightGBM"
      ],
      "metadata": {
        "id": "kM9gYoboMf2C"
      }
    },
    {
      "cell_type": "code",
      "execution_count": 33,
      "source": [
        "X_lg = X_final.copy()\n",
        "y_lg = y_final.copy()\n",
        "\n",
        "catfeat = [column for column in list(X_lg.columns) if X_lg[column].dtype == \"object\"]\n",
        "\n",
        "for col in catfeat:\n",
        "  X_lg[col] = X_lg[col].astype('category')\n",
        "\n",
        "X_train_lg, X_val_lg, X_test_lg, y_train_lg, y_val_lg, y_test_lg = train_val_test_split(X_lg, y_lg)"
      ],
      "outputs": [],
      "metadata": {
        "id": "8K_oC45XVcDP"
      }
    },
    {
      "cell_type": "code",
      "execution_count": 41,
      "source": [
        "params = {\n",
        "    \"loss_function\": \"CrossEntropy\",\n",
        "    \"eval_metric\": \"F1\",\n",
        "    \"random_seed\": 10,\n",
        "    \"categorical_feature\": catfeat,\n",
        "    \"verbose\": 100,\n",
        "    \"max_depth\": 6,\n",
        "    \"learning_rate\": 0.10,\n",
        "    \"num_iterations\": 2000,\n",
        "    \"objective\": 'binary'\n",
        "}"
      ],
      "outputs": [],
      "metadata": {
        "id": "S3fEhPPnji7V"
      }
    },
    {
      "cell_type": "code",
      "execution_count": null,
      "source": [
        "lgb = LGBMClassifier(**params)\n",
        "lgb.fit(X_train_lg, y_train_lg, eval_set=(X_val_lg, y_val_lg), feature_name='auto', categorical_feature='auto')"
      ],
      "outputs": [],
      "metadata": {
        "id": "EJkrNV2TLUil"
      }
    },
    {
      "cell_type": "code",
      "execution_count": 43,
      "source": [
        "lgb_pred = lgb.predict(X_test_lg)\n",
        "print(classification_report(y_test_lg, lgb_pred, labels=[0, 1], digits=5))"
      ],
      "outputs": [
        {
          "output_type": "stream",
          "name": "stdout",
          "text": [
            "              precision    recall  f1-score   support\n",
            "\n",
            "           0    0.73874   0.74088   0.73981      9980\n",
            "           1    0.74112   0.73897   0.74004     10018\n",
            "\n",
            "    accuracy                        0.73992     19998\n",
            "   macro avg    0.73993   0.73993   0.73992     19998\n",
            "weighted avg    0.73993   0.73992   0.73992     19998\n",
            "\n"
          ]
        }
      ],
      "metadata": {
        "colab": {
          "base_uri": "https://localhost:8080/"
        },
        "id": "iUXBJSmAM93L",
        "outputId": "acb56d99-2ff6-4de5-d620-a2daffd8bd3a"
      }
    },
    {
      "cell_type": "code",
      "execution_count": 71,
      "source": [
        "from sklearn.model_selection import cross_validate\n",
        "\n",
        "scoring = ['precision', 'recall', 'accuracy']\n",
        "cv = StratifiedKFold(n_splits=5, random_state=10)\n",
        "score = cross_validate(lgb, X_lg, y_lg, scoring=scoring, cv=cv, n_jobs=-1, return_train_score=False)"
      ],
      "outputs": [
        {
          "output_type": "stream",
          "name": "stderr",
          "text": [
            "/usr/local/lib/python3.7/dist-packages/sklearn/model_selection/_split.py:296: FutureWarning: Setting a random_state has no effect since shuffle is False. This will raise an error in 0.24. You should leave random_state to its default (None), or set shuffle=True.\n",
            "  FutureWarning\n"
          ]
        }
      ],
      "metadata": {
        "id": "XwSShPITM9_R",
        "colab": {
          "base_uri": "https://localhost:8080/"
        },
        "outputId": "a74d2c22-8d63-46ca-acc7-e1fa05c0a513"
      }
    },
    {
      "cell_type": "code",
      "execution_count": 72,
      "source": [
        "avg_precision = score[\"test_precision\"].mean()\n",
        "avg_recall = score[\"test_recall\"].mean()\n",
        "avg_acc = score[\"test_accuracy\"].mean()\n",
        "\n",
        "print(f'Precision avg: {avg_precision}')\n",
        "print(f'Recall avg: {avg_recall}')\n",
        "print(f'Acc avg: {avg_acc}')\n",
        "\n",
        "print(f'Possible score : {(avg_precision*0.4)+(avg_recall*0.3)+(avg_acc*0.3)}')"
      ],
      "outputs": [
        {
          "output_type": "stream",
          "name": "stdout",
          "text": [
            "Precision avg: 0.7351023504613979\n",
            "Recall avg: 0.7428255546165528\n",
            "Acc avg: 0.737068706870687\n",
            "Possible score : 0.7380092186307311\n"
          ]
        }
      ],
      "metadata": {
        "colab": {
          "base_uri": "https://localhost:8080/"
        },
        "id": "lBfC4A3lnRme",
        "outputId": "9b105763-e228-4d7b-9577-2d4e57ead37f"
      }
    },
    {
      "cell_type": "markdown",
      "source": [
        "### Voting"
      ],
      "metadata": {
        "id": "93KduAEWNWX8"
      }
    },
    {
      "cell_type": "code",
      "execution_count": 45,
      "source": [
        "ensemble = EnsembleVoteClassifier(\n",
        "    clfs=[cat, lgb],\n",
        "    weights=[1.,1.5],\n",
        "    voting='soft',\n",
        ")"
      ],
      "outputs": [],
      "metadata": {
        "id": "vwqOkpK3kVG6"
      }
    },
    {
      "cell_type": "code",
      "execution_count": 46,
      "source": [
        "ensemble.fit(X_train_lg, y_train_lg)"
      ],
      "outputs": [
        {
          "output_type": "stream",
          "name": "stdout",
          "text": [
            "0:\tlearn: 0.6305692\ttotal: 72.4ms\tremaining: 2m 24s\n",
            "100:\tlearn: 0.7150253\ttotal: 5.69s\tremaining: 1m 47s\n",
            "200:\tlearn: 0.7201125\ttotal: 11s\tremaining: 1m 38s\n",
            "300:\tlearn: 0.7239508\ttotal: 16.3s\tremaining: 1m 31s\n",
            "400:\tlearn: 0.7262312\ttotal: 21.5s\tremaining: 1m 25s\n",
            "500:\tlearn: 0.7283180\ttotal: 26.7s\tremaining: 1m 19s\n",
            "600:\tlearn: 0.7297431\ttotal: 32s\tremaining: 1m 14s\n",
            "700:\tlearn: 0.7313349\ttotal: 37.2s\tremaining: 1m 8s\n",
            "800:\tlearn: 0.7329001\ttotal: 42.4s\tremaining: 1m 3s\n",
            "900:\tlearn: 0.7344385\ttotal: 47.6s\tremaining: 58s\n",
            "1000:\tlearn: 0.7353789\ttotal: 52.7s\tremaining: 52.6s\n",
            "1100:\tlearn: 0.7362452\ttotal: 57.9s\tremaining: 47.3s\n",
            "1200:\tlearn: 0.7370377\ttotal: 1m 3s\tremaining: 41.9s\n",
            "1300:\tlearn: 0.7381450\ttotal: 1m 8s\tremaining: 36.6s\n",
            "1400:\tlearn: 0.7388627\ttotal: 1m 13s\tremaining: 31.3s\n",
            "1500:\tlearn: 0.7398884\ttotal: 1m 18s\tremaining: 26.1s\n",
            "1600:\tlearn: 0.7409328\ttotal: 1m 23s\tremaining: 20.8s\n",
            "1700:\tlearn: 0.7416948\ttotal: 1m 28s\tremaining: 15.6s\n",
            "1800:\tlearn: 0.7427954\ttotal: 1m 33s\tremaining: 10.4s\n",
            "1900:\tlearn: 0.7435026\ttotal: 1m 38s\tremaining: 5.16s\n",
            "1999:\tlearn: 0.7448246\ttotal: 1m 44s\tremaining: 0us\n"
          ]
        },
        {
          "output_type": "stream",
          "name": "stderr",
          "text": [
            "/usr/local/lib/python3.7/dist-packages/lightgbm/engine.py:118: UserWarning: Found `num_iterations` in params. Will use it instead of argument\n",
            "  warnings.warn(\"Found `{}` in params. Will use it instead of argument\".format(alias))\n",
            "/usr/local/lib/python3.7/dist-packages/lightgbm/basic.py:741: UserWarning: categorical_feature keyword has been found in `params` and will be ignored.\n",
            "Please use categorical_feature argument of the Dataset constructor to pass this parameter.\n",
            "  .format(key))\n",
            "/usr/local/lib/python3.7/dist-packages/lightgbm/basic.py:762: UserWarning: categorical_feature in param dict is overridden.\n",
            "  warnings.warn('categorical_feature in param dict is overridden.')\n"
          ]
        },
        {
          "output_type": "execute_result",
          "data": {
            "text/plain": [
              "EnsembleVoteClassifier(clfs=[<catboost.core.CatBoostClassifier object at 0x7f95520040d0>,\n",
              "                             LGBMClassifier(boosting_type='gbdt',\n",
              "                                            categorical_feature=['dati2',\n",
              "                                                                 'typeppk',\n",
              "                                                                 'cmg',\n",
              "                                                                 'severitylevel',\n",
              "                                                                 'diagprimer',\n",
              "                                                                 'dati2_kdkc',\n",
              "                                                                 'diag_sev',\n",
              "                                                                 'sev_los'],\n",
              "                                            class_weight=None,\n",
              "                                            colsample_bytree=1.0,\n",
              "                                            eval_metric='F1',\n",
              "                                            importance_type='split',\n",
              "                                            learning_rate=0.1,\n",
              "                                            loss_function='CrossE...\n",
              "                                            max_depth=6, min_child_samples=20,\n",
              "                                            min_child_weight=0.001,\n",
              "                                            min_split_gain=0.0,\n",
              "                                            n_estimators=100, n_jobs=-1,\n",
              "                                            num_iterations=2000, num_leaves=31,\n",
              "                                            objective='binary', random_seed=10,\n",
              "                                            random_state=None, reg_alpha=0.0,\n",
              "                                            reg_lambda=0.0, silent=True,\n",
              "                                            subsample=1.0,\n",
              "                                            subsample_for_bin=200000,\n",
              "                                            subsample_freq=0, verbose=100)],\n",
              "                       refit=True, verbose=0, voting='soft',\n",
              "                       weights=[1.0, 1.5])"
            ]
          },
          "metadata": {},
          "execution_count": 46
        }
      ],
      "metadata": {
        "id": "2x3NwkTGOArJ",
        "colab": {
          "base_uri": "https://localhost:8080/"
        },
        "outputId": "109bb69d-2861-40c0-8589-f80ca2d9783c"
      }
    },
    {
      "cell_type": "code",
      "execution_count": 47,
      "source": [
        "y_ensemble = ensemble.predict(X_test_lg)"
      ],
      "outputs": [],
      "metadata": {
        "id": "9SpodluJn9gy"
      }
    },
    {
      "cell_type": "code",
      "execution_count": 48,
      "source": [
        "print(classification_report(y_test_lg, y_ensemble, labels=[0, 1], digits=5))"
      ],
      "outputs": [
        {
          "output_type": "stream",
          "name": "stdout",
          "text": [
            "              precision    recall  f1-score   support\n",
            "\n",
            "           0    0.74135   0.74699   0.74416      9980\n",
            "           1    0.74603   0.74037   0.74319     10018\n",
            "\n",
            "    accuracy                        0.74367     19998\n",
            "   macro avg    0.74369   0.74368   0.74367     19998\n",
            "weighted avg    0.74369   0.74367   0.74367     19998\n",
            "\n"
          ]
        }
      ],
      "metadata": {
        "colab": {
          "base_uri": "https://localhost:8080/"
        },
        "id": "dEkZbpVhlfx-",
        "outputId": "206e382b-c110-40b9-8dec-1def730c4499"
      }
    },
    {
      "cell_type": "code",
      "execution_count": 49,
      "source": [
        "from sklearn.model_selection import cross_validate\n",
        "\n",
        "scoring = ['precision', 'recall', 'accuracy']\n",
        "cv = StratifiedKFold(n_splits=5, random_state=10)\n",
        "score = cross_validate(ensemble, X_lg, y_lg, scoring=scoring, cv=cv, n_jobs=-1, return_train_score=False)"
      ],
      "outputs": [
        {
          "output_type": "stream",
          "name": "stderr",
          "text": [
            "/usr/local/lib/python3.7/dist-packages/sklearn/model_selection/_split.py:296: FutureWarning: Setting a random_state has no effect since shuffle is False. This will raise an error in 0.24. You should leave random_state to its default (None), or set shuffle=True.\n",
            "  FutureWarning\n"
          ]
        }
      ],
      "metadata": {
        "colab": {
          "base_uri": "https://localhost:8080/"
        },
        "id": "vmJYgvYCnJR0",
        "outputId": "039e2ff6-ffd4-4625-ffd9-97d4659ee0c6"
      }
    },
    {
      "cell_type": "code",
      "execution_count": 50,
      "source": [
        "avg_precision = score[\"test_precision\"].mean()\n",
        "avg_recall = score[\"test_recall\"].mean()\n",
        "avg_acc = score[\"test_accuracy\"].mean()\n",
        "\n",
        "print(f'Precision avg: {avg_precision}')\n",
        "print(f'Recall avg: {avg_recall}')\n",
        "print(f'Acc avg: {avg_acc}')\n",
        "\n",
        "print(f'Possible score : {(avg_precision*0.4)+(avg_recall*0.3)+(avg_acc*0.3)}')"
      ],
      "outputs": [
        {
          "output_type": "stream",
          "name": "stdout",
          "text": [
            "Precision avg: 0.7411928932582599\n",
            "Recall avg: 0.7436839610744878\n",
            "Acc avg: 0.7415091509150915\n",
            "Possible score : 0.7420350909001777\n"
          ]
        }
      ],
      "metadata": {
        "colab": {
          "base_uri": "https://localhost:8080/"
        },
        "id": "WDdyTov0nMex",
        "outputId": "0014026e-770e-471a-bef6-8e0942be134f"
      }
    },
    {
      "cell_type": "markdown",
      "source": [
        "## Submit"
      ],
      "metadata": {
        "id": "2Z5c7jli2Uyo"
      }
    },
    {
      "cell_type": "code",
      "execution_count": 51,
      "source": [
        "validation = pd.read_csv('valbest.csv')"
      ],
      "outputs": [],
      "metadata": {
        "id": "WmsXWMxF2ph_"
      }
    },
    {
      "cell_type": "code",
      "execution_count": 52,
      "source": [
        "catt = [column for column in list(validation.columns) if validation[column].dtype == \"object\"]\n",
        "\n",
        "for col in catt:\n",
        "  validation[col] = validation[col].astype('category')"
      ],
      "outputs": [],
      "metadata": {
        "id": "UD2tDdnx25hJ"
      }
    },
    {
      "cell_type": "code",
      "execution_count": 54,
      "source": [
        "validation['dati2'] = validation['dati2'].astype('category')\n",
        "validation['severitylevel'] = validation['severitylevel'].astype('category')"
      ],
      "outputs": [],
      "metadata": {
        "id": "6A3UIh053AqV"
      }
    },
    {
      "cell_type": "code",
      "execution_count": 55,
      "source": [
        "validation.info()"
      ],
      "outputs": [
        {
          "output_type": "stream",
          "name": "stdout",
          "text": [
            "<class 'pandas.core.frame.DataFrame'>\n",
            "RangeIndex: 49762 entries, 0 to 49761\n",
            "Data columns (total 52 columns):\n",
            " #   Column           Non-Null Count  Dtype   \n",
            "---  ------           --------------  -----   \n",
            " 0   dati2            49762 non-null  category\n",
            " 1   typeppk          49762 non-null  category\n",
            " 2   cmg              49762 non-null  category\n",
            " 3   severitylevel    49762 non-null  category\n",
            " 4   diagprimer       49762 non-null  category\n",
            " 5   dx2_a00_b99      49762 non-null  bool    \n",
            " 6   dx2_c00_d48      49762 non-null  bool    \n",
            " 7   dx2_d50_d89      49762 non-null  bool    \n",
            " 8   dx2_e00_e90      49762 non-null  bool    \n",
            " 9   dx2_f00_f99      49762 non-null  bool    \n",
            " 10  dx2_g00_g99      49762 non-null  bool    \n",
            " 11  dx2_h00_h59      49762 non-null  bool    \n",
            " 12  dx2_h60_h95      49762 non-null  bool    \n",
            " 13  dx2_i00_i99      49762 non-null  bool    \n",
            " 14  dx2_j00_j99      49762 non-null  bool    \n",
            " 15  dx2_koo_k93      49762 non-null  bool    \n",
            " 16  dx2_l00_l99      49762 non-null  bool    \n",
            " 17  dx2_m00_m99      49762 non-null  bool    \n",
            " 18  dx2_n00_n99      49762 non-null  bool    \n",
            " 19  dx2_o00_o99      49762 non-null  bool    \n",
            " 20  dx2_p00_p96      49762 non-null  bool    \n",
            " 21  dx2_q00_q99      49762 non-null  bool    \n",
            " 22  dx2_r00_r99      49762 non-null  bool    \n",
            " 23  dx2_s00_t98      49762 non-null  bool    \n",
            " 24  dx2_u00_u99      49762 non-null  bool    \n",
            " 25  dx2_v01_y98      49762 non-null  bool    \n",
            " 26  dx2_z00_z99      49762 non-null  bool    \n",
            " 27  proc00_13        49762 non-null  bool    \n",
            " 28  proc14_23        49762 non-null  bool    \n",
            " 29  proc24_27        49762 non-null  bool    \n",
            " 30  proc28_28        49762 non-null  bool    \n",
            " 31  proc29_31        49762 non-null  bool    \n",
            " 32  proc_32_38       49762 non-null  bool    \n",
            " 33  proc39_45        49762 non-null  bool    \n",
            " 34  proc46_51        49762 non-null  bool    \n",
            " 35  proc52_57        49762 non-null  bool    \n",
            " 36  proc58_62        49762 non-null  bool    \n",
            " 37  proc63_67        49762 non-null  bool    \n",
            " 38  proc68_70        49762 non-null  bool    \n",
            " 39  proc71_73        49762 non-null  bool    \n",
            " 40  proc74_75        49762 non-null  bool    \n",
            " 41  proc76_77        49762 non-null  bool    \n",
            " 42  proc78_79        49762 non-null  bool    \n",
            " 43  proc80_99        49762 non-null  bool    \n",
            " 44  proce00_e99      49762 non-null  bool    \n",
            " 45  procv00_v89      49762 non-null  bool    \n",
            " 46  total_secondary  49762 non-null  int64   \n",
            " 47  total_procedure  49762 non-null  int64   \n",
            " 48  dati2_kdkc       49762 non-null  category\n",
            " 49  diag_sev         49762 non-null  category\n",
            " 50  sev_los          49762 non-null  category\n",
            " 51  los_log          49762 non-null  int64   \n",
            "dtypes: bool(41), category(8), int64(3)\n",
            "memory usage: 3.7 MB\n"
          ]
        }
      ],
      "metadata": {
        "colab": {
          "base_uri": "https://localhost:8080/"
        },
        "id": "LJfMwLuv292-",
        "outputId": "68fcc81a-f824-4693-cbc9-2d873a771223"
      }
    },
    {
      "cell_type": "code",
      "execution_count": 56,
      "source": [
        "validation_id = pd.read_csv('val_id.csv')"
      ],
      "outputs": [],
      "metadata": {
        "id": "qSMng-tP2uzp"
      }
    },
    {
      "cell_type": "code",
      "execution_count": 57,
      "source": [
        "val_pred = ensemble.predict(validation)"
      ],
      "outputs": [],
      "metadata": {
        "id": "ShwsP14J2hyV"
      }
    },
    {
      "cell_type": "code",
      "execution_count": 64,
      "source": [
        "lgb_predd = lgb.predict(validation)"
      ],
      "outputs": [],
      "metadata": {
        "id": "j9lWMy6bcbIo"
      }
    },
    {
      "cell_type": "code",
      "execution_count": 62,
      "source": [
        "sub = pd.DataFrame({\"visit_id\": validation_id.visit_id, \"predict_label\": val_pred})\n",
        "sub.head()"
      ],
      "outputs": [
        {
          "output_type": "execute_result",
          "data": {
            "text/html": [
              "<div>\n",
              "<style scoped>\n",
              "    .dataframe tbody tr th:only-of-type {\n",
              "        vertical-align: middle;\n",
              "    }\n",
              "\n",
              "    .dataframe tbody tr th {\n",
              "        vertical-align: top;\n",
              "    }\n",
              "\n",
              "    .dataframe thead th {\n",
              "        text-align: right;\n",
              "    }\n",
              "</style>\n",
              "<table border=\"1\" class=\"dataframe\">\n",
              "  <thead>\n",
              "    <tr style=\"text-align: right;\">\n",
              "      <th></th>\n",
              "      <th>visit_id</th>\n",
              "      <th>predict_label</th>\n",
              "    </tr>\n",
              "  </thead>\n",
              "  <tbody>\n",
              "    <tr>\n",
              "      <th>0</th>\n",
              "      <td>1</td>\n",
              "      <td>0</td>\n",
              "    </tr>\n",
              "    <tr>\n",
              "      <th>1</th>\n",
              "      <td>2</td>\n",
              "      <td>1</td>\n",
              "    </tr>\n",
              "    <tr>\n",
              "      <th>2</th>\n",
              "      <td>3</td>\n",
              "      <td>1</td>\n",
              "    </tr>\n",
              "    <tr>\n",
              "      <th>3</th>\n",
              "      <td>4</td>\n",
              "      <td>1</td>\n",
              "    </tr>\n",
              "    <tr>\n",
              "      <th>4</th>\n",
              "      <td>5</td>\n",
              "      <td>0</td>\n",
              "    </tr>\n",
              "  </tbody>\n",
              "</table>\n",
              "</div>"
            ],
            "text/plain": [
              "   visit_id  predict_label\n",
              "0         1              0\n",
              "1         2              1\n",
              "2         3              1\n",
              "3         4              1\n",
              "4         5              0"
            ]
          },
          "metadata": {},
          "execution_count": 62
        }
      ],
      "metadata": {
        "id": "cjPF6AyW2T8x",
        "colab": {
          "base_uri": "https://localhost:8080/",
          "height": 204
        },
        "outputId": "833728ae-9c2e-44fa-98d1-47cbff826d69"
      }
    },
    {
      "cell_type": "code",
      "execution_count": 63,
      "source": [
        "sub.to_csv('SEMOGABAGUS.csv', index=False)"
      ],
      "outputs": [],
      "metadata": {
        "id": "frXR2aeFcLjs"
      }
    },
    {
      "cell_type": "code",
      "execution_count": 70,
      "source": [
        "sub.shape"
      ],
      "outputs": [
        {
          "output_type": "execute_result",
          "data": {
            "text/plain": [
              "(49762, 2)"
            ]
          },
          "metadata": {},
          "execution_count": 70
        }
      ],
      "metadata": {
        "colab": {
          "base_uri": "https://localhost:8080/"
        },
        "id": "5dPu4BtlcwUF",
        "outputId": "aed28dac-ab39-4fa6-95a2-039a88d77b12"
      }
    }
  ]
}